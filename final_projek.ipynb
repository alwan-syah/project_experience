{
  "cells": [
    {
      "cell_type": "markdown",
      "id": "fdf51725-cfab-4723-b210-fb5069f45ad6",
      "metadata": {
        "id": "fdf51725-cfab-4723-b210-fb5069f45ad6"
      },
      "source": [
        "# **JB Link Telco Customer Churn**"
      ]
    },
    {
      "cell_type": "code",
      "execution_count": null,
      "id": "e05a04f7-6772-4cd6-8f52-285eb4d8cc75",
      "metadata": {
        "id": "e05a04f7-6772-4cd6-8f52-285eb4d8cc75"
      },
      "outputs": [],
      "source": [
        "import itertools\n",
        "import numpy as np\n",
        "import matplotlib.pyplot as plt\n",
        "from matplotlib.ticker import NullFormatter\n",
        "import pandas as pd\n",
        "import numpy as np\n",
        "import matplotlib.ticker as ticker\n",
        "from sklearn import preprocessing\n",
        "%matplotlib inline"
      ]
    },
    {
      "cell_type": "code",
      "execution_count": null,
      "id": "4a9d29c0-1fcf-423f-9b8e-e899637f0dcf",
      "metadata": {
        "id": "4a9d29c0-1fcf-423f-9b8e-e899637f0dcf"
      },
      "outputs": [],
      "source": [
        "from sklearn import preprocessing\n",
        "from sklearn.feature_selection import SelectKBest, f_regression\n",
        "from sklearn.model_selection import train_test_split\n",
        "from sklearn import metrics\n",
        "from sklearn.metrics import classification_report, confusion_matrix, accuracy_score, f1_score\n",
        "from sklearn.preprocessing import LabelEncoder\n",
        "from sklearn.preprocessing import StandardScaler"
      ]
    },
    {
      "cell_type": "code",
      "execution_count": null,
      "id": "a8ae4d17-e530-4551-b8a6-8f5ea4997b26",
      "metadata": {
        "id": "a8ae4d17-e530-4551-b8a6-8f5ea4997b26"
      },
      "outputs": [],
      "source": [
        "# Algorithms for Base Classification\n",
        "from sklearn.tree import DecisionTreeClassifier\n",
        "from sklearn.naive_bayes import GaussianNB\n",
        "from sklearn.linear_model import LogisticRegression\n",
        "from sklearn.neighbors import KNeighborsClassifier\n",
        "from sklearn.svm import SVC\n",
        "from sklearn.neural_network import MLPClassifier"
      ]
    },
    {
      "cell_type": "code",
      "execution_count": null,
      "id": "7e2b9694-4cd1-4971-8535-9e252b9489ba",
      "metadata": {
        "id": "7e2b9694-4cd1-4971-8535-9e252b9489ba"
      },
      "outputs": [],
      "source": [
        "def categorical_summarized(dataframe, x=None, y=None, hue=None, palette='Set1', verbose=True):\n",
        "    '''\n",
        "    Helper function that gives a quick summary of a given column of categorical data\n",
        "    Arguments\n",
        "    =========\n",
        "    dataframe: pandas dataframe\n",
        "    x: str. horizontal axis to plot the labels of categorical data, y would be the count\n",
        "    y: str. vertical axis to plot the labels of categorical data, x would be the count\n",
        "    hue: str. if you want to compare it another variable (usually the target variable)\n",
        "    palette: array-like. Colour of the plot\n",
        "    Returns\n",
        "    =======\n",
        "    Quick Stats of the data and also the count plot\n",
        "    '''\n",
        "    if x == None:\n",
        "        column_interested = y\n",
        "    else:\n",
        "        column_interested = x\n",
        "    series = dataframe[column_interested]\n",
        "    print(series.describe())\n",
        "    print('mode: ', series.mode())\n",
        "    if verbose:\n",
        "        print('='*80)\n",
        "        print(series.value_counts())\n",
        "\n",
        "    sns.countplot(x=x, y=y, hue=hue, data=dataframe, palette=palette)\n",
        "    plt.show()"
      ]
    },
    {
      "cell_type": "markdown",
      "id": "327a44a3-15a3-4626-a20b-a762ea9a1d03",
      "metadata": {
        "id": "327a44a3-15a3-4626-a20b-a762ea9a1d03"
      },
      "source": [
        "## Load Data From CSV File"
      ]
    },
    {
      "cell_type": "code",
      "execution_count": null,
      "id": "1ef02d74-5e71-4203-84a2-9df00defc2b7",
      "metadata": {
        "id": "1ef02d74-5e71-4203-84a2-9df00defc2b7",
        "outputId": "46abc7a6-21eb-418e-a76c-c77e7f50d4c0"
      },
      "outputs": [
        {
          "data": {
            "text/html": [
              "<div>\n",
              "<style scoped>\n",
              "    .dataframe tbody tr th:only-of-type {\n",
              "        vertical-align: middle;\n",
              "    }\n",
              "\n",
              "    .dataframe tbody tr th {\n",
              "        vertical-align: top;\n",
              "    }\n",
              "\n",
              "    .dataframe thead th {\n",
              "        text-align: right;\n",
              "    }\n",
              "</style>\n",
              "<table border=\"1\" class=\"dataframe\">\n",
              "  <thead>\n",
              "    <tr style=\"text-align: right;\">\n",
              "      <th></th>\n",
              "      <th>Customer ID</th>\n",
              "      <th>Referred a Friend</th>\n",
              "      <th>Number of Referrals</th>\n",
              "      <th>Tenure in Months</th>\n",
              "      <th>Offer</th>\n",
              "      <th>Phone Service</th>\n",
              "      <th>Avg Monthly Long Distance Charges</th>\n",
              "      <th>Multiple Lines</th>\n",
              "      <th>Internet Service</th>\n",
              "      <th>Internet Type</th>\n",
              "      <th>...</th>\n",
              "      <th>Latitude</th>\n",
              "      <th>Longitude</th>\n",
              "      <th>Population</th>\n",
              "      <th>Churn Value</th>\n",
              "      <th>CLTV</th>\n",
              "      <th>Churn Category</th>\n",
              "      <th>Churn Reason</th>\n",
              "      <th>Total Customer Svc Requests</th>\n",
              "      <th>Product/Service Issues Reported</th>\n",
              "      <th>Customer Satisfaction</th>\n",
              "    </tr>\n",
              "  </thead>\n",
              "  <tbody>\n",
              "    <tr>\n",
              "      <th>0</th>\n",
              "      <td>8779-QRDMV</td>\n",
              "      <td>No</td>\n",
              "      <td>0</td>\n",
              "      <td>1</td>\n",
              "      <td>None</td>\n",
              "      <td>No</td>\n",
              "      <td>0.00</td>\n",
              "      <td>No</td>\n",
              "      <td>Yes</td>\n",
              "      <td>Fiber Optic</td>\n",
              "      <td>...</td>\n",
              "      <td>34.023810</td>\n",
              "      <td>-118.156582</td>\n",
              "      <td>68701</td>\n",
              "      <td>1</td>\n",
              "      <td>5433</td>\n",
              "      <td>Competitor</td>\n",
              "      <td>Competitor offered more data</td>\n",
              "      <td>5</td>\n",
              "      <td>0</td>\n",
              "      <td>NaN</td>\n",
              "    </tr>\n",
              "    <tr>\n",
              "      <th>1</th>\n",
              "      <td>7495-OOKFY</td>\n",
              "      <td>Yes</td>\n",
              "      <td>1</td>\n",
              "      <td>8</td>\n",
              "      <td>Offer E</td>\n",
              "      <td>Yes</td>\n",
              "      <td>48.85</td>\n",
              "      <td>Yes</td>\n",
              "      <td>Yes</td>\n",
              "      <td>Cable</td>\n",
              "      <td>...</td>\n",
              "      <td>34.044271</td>\n",
              "      <td>-118.185237</td>\n",
              "      <td>55668</td>\n",
              "      <td>1</td>\n",
              "      <td>5302</td>\n",
              "      <td>Competitor</td>\n",
              "      <td>Competitor made better offer</td>\n",
              "      <td>5</td>\n",
              "      <td>0</td>\n",
              "      <td>NaN</td>\n",
              "    </tr>\n",
              "    <tr>\n",
              "      <th>2</th>\n",
              "      <td>1658-BYGOY</td>\n",
              "      <td>No</td>\n",
              "      <td>0</td>\n",
              "      <td>18</td>\n",
              "      <td>Offer D</td>\n",
              "      <td>Yes</td>\n",
              "      <td>11.33</td>\n",
              "      <td>Yes</td>\n",
              "      <td>Yes</td>\n",
              "      <td>Fiber Optic</td>\n",
              "      <td>...</td>\n",
              "      <td>34.108833</td>\n",
              "      <td>-118.229715</td>\n",
              "      <td>47534</td>\n",
              "      <td>1</td>\n",
              "      <td>3179</td>\n",
              "      <td>Competitor</td>\n",
              "      <td>Competitor made better offer</td>\n",
              "      <td>1</td>\n",
              "      <td>0</td>\n",
              "      <td>NaN</td>\n",
              "    </tr>\n",
              "    <tr>\n",
              "      <th>3</th>\n",
              "      <td>4598-XLKNJ</td>\n",
              "      <td>Yes</td>\n",
              "      <td>1</td>\n",
              "      <td>25</td>\n",
              "      <td>Offer C</td>\n",
              "      <td>Yes</td>\n",
              "      <td>19.76</td>\n",
              "      <td>No</td>\n",
              "      <td>Yes</td>\n",
              "      <td>Fiber Optic</td>\n",
              "      <td>...</td>\n",
              "      <td>33.936291</td>\n",
              "      <td>-118.332639</td>\n",
              "      <td>27778</td>\n",
              "      <td>1</td>\n",
              "      <td>5337</td>\n",
              "      <td>Dissatisfaction</td>\n",
              "      <td>Limited range of services</td>\n",
              "      <td>1</td>\n",
              "      <td>1</td>\n",
              "      <td>2.0</td>\n",
              "    </tr>\n",
              "    <tr>\n",
              "      <th>4</th>\n",
              "      <td>4846-WHAFZ</td>\n",
              "      <td>Yes</td>\n",
              "      <td>1</td>\n",
              "      <td>37</td>\n",
              "      <td>Offer C</td>\n",
              "      <td>Yes</td>\n",
              "      <td>6.33</td>\n",
              "      <td>Yes</td>\n",
              "      <td>Yes</td>\n",
              "      <td>Cable</td>\n",
              "      <td>...</td>\n",
              "      <td>33.972119</td>\n",
              "      <td>-118.020188</td>\n",
              "      <td>26265</td>\n",
              "      <td>1</td>\n",
              "      <td>2793</td>\n",
              "      <td>Price</td>\n",
              "      <td>Extra data charges</td>\n",
              "      <td>1</td>\n",
              "      <td>0</td>\n",
              "      <td>2.0</td>\n",
              "    </tr>\n",
              "  </tbody>\n",
              "</table>\n",
              "<p>5 rows × 46 columns</p>\n",
              "</div>"
            ],
            "text/plain": [
              "  Customer ID Referred a Friend  Number of Referrals  Tenure in Months  \\\n",
              "0  8779-QRDMV                No                    0                 1   \n",
              "1  7495-OOKFY               Yes                    1                 8   \n",
              "2  1658-BYGOY                No                    0                18   \n",
              "3  4598-XLKNJ               Yes                    1                25   \n",
              "4  4846-WHAFZ               Yes                    1                37   \n",
              "\n",
              "     Offer Phone Service  Avg Monthly Long Distance Charges Multiple Lines  \\\n",
              "0     None            No                               0.00             No   \n",
              "1  Offer E           Yes                              48.85            Yes   \n",
              "2  Offer D           Yes                              11.33            Yes   \n",
              "3  Offer C           Yes                              19.76             No   \n",
              "4  Offer C           Yes                               6.33            Yes   \n",
              "\n",
              "  Internet Service Internet Type  ...   Latitude   Longitude Population  \\\n",
              "0              Yes   Fiber Optic  ...  34.023810 -118.156582      68701   \n",
              "1              Yes         Cable  ...  34.044271 -118.185237      55668   \n",
              "2              Yes   Fiber Optic  ...  34.108833 -118.229715      47534   \n",
              "3              Yes   Fiber Optic  ...  33.936291 -118.332639      27778   \n",
              "4              Yes         Cable  ...  33.972119 -118.020188      26265   \n",
              "\n",
              "  Churn Value  CLTV   Churn Category                  Churn Reason  \\\n",
              "0           1  5433       Competitor  Competitor offered more data   \n",
              "1           1  5302       Competitor  Competitor made better offer   \n",
              "2           1  3179       Competitor  Competitor made better offer   \n",
              "3           1  5337  Dissatisfaction     Limited range of services   \n",
              "4           1  2793            Price            Extra data charges   \n",
              "\n",
              "  Total Customer Svc Requests Product/Service Issues Reported  \\\n",
              "0                           5                               0   \n",
              "1                           5                               0   \n",
              "2                           1                               0   \n",
              "3                           1                               1   \n",
              "4                           1                               0   \n",
              "\n",
              "  Customer Satisfaction  \n",
              "0                   NaN  \n",
              "1                   NaN  \n",
              "2                   NaN  \n",
              "3                   2.0  \n",
              "4                   2.0  \n",
              "\n",
              "[5 rows x 46 columns]"
            ]
          },
          "execution_count": 5,
          "metadata": {},
          "output_type": "execute_result"
        }
      ],
      "source": [
        "df = pd.read_csv('telco_churn_data.csv')\n",
        "df.head()"
      ]
    },
    {
      "cell_type": "code",
      "execution_count": null,
      "id": "a58d0596-c8d9-4e92-b330-94307e9034de",
      "metadata": {
        "id": "a58d0596-c8d9-4e92-b330-94307e9034de",
        "outputId": "cdb20360-47a4-4174-8752-7e3d8443fa82"
      },
      "outputs": [
        {
          "data": {
            "text/plain": [
              "(7043, 46)"
            ]
          },
          "execution_count": 6,
          "metadata": {},
          "output_type": "execute_result"
        }
      ],
      "source": [
        "df.shape"
      ]
    },
    {
      "cell_type": "markdown",
      "id": "8f3db0d5-1a42-4c0d-9a17-3049bb3842bc",
      "metadata": {
        "id": "8f3db0d5-1a42-4c0d-9a17-3049bb3842bc"
      },
      "source": [
        "## Data visualization and pre-processing"
      ]
    },
    {
      "cell_type": "code",
      "execution_count": null,
      "id": "293877f1-49cf-4602-b978-6881bca0f774",
      "metadata": {
        "id": "293877f1-49cf-4602-b978-6881bca0f774",
        "outputId": "9d00df97-df7a-4057-ce70-11c8a98c5fa6"
      },
      "outputs": [
        {
          "data": {
            "text/plain": [
              "0    5174\n",
              "1    1869\n",
              "Name: Churn Value, dtype: int64"
            ]
          },
          "execution_count": 7,
          "metadata": {},
          "output_type": "execute_result"
        }
      ],
      "source": [
        "df['Churn Value'].value_counts()"
      ]
    },
    {
      "cell_type": "markdown",
      "id": "62d5e5a0-54e9-4111-b1eb-5ab9aaef4b10",
      "metadata": {
        "id": "62d5e5a0-54e9-4111-b1eb-5ab9aaef4b10"
      },
      "source": [
        "terdapat customer yang tidak churn atau bernilai 0 berjumlah 5174 customer dan customer yang churn itu atau bernilai 1 berjumlah 1869"
      ]
    },
    {
      "cell_type": "code",
      "execution_count": null,
      "id": "e241844f-7956-412b-bd10-773fd79d250a",
      "metadata": {
        "id": "e241844f-7956-412b-bd10-773fd79d250a",
        "outputId": "2299b77c-0222-412e-f4ae-2b5157d51dbc"
      },
      "outputs": [
        {
          "data": {
            "image/png": "[encoded data removed]",
            "text/plain": [
              "<Figure size 432x648 with 5 Axes>"
            ]
          },
          "metadata": {
            "needs_background": "light"
          },
          "output_type": "display_data"
        }
      ],
      "source": [
        "import seaborn as sns\n",
        "\n",
        "bins = np.linspace(df.Population.min(), df.Population.max(), 10)\n",
        "g = sns.FacetGrid(df, col=\"Churn Category\", hue=\"Churn Value\", palette=\"Set1\", col_wrap=2)\n",
        "g.map(plt.hist, 'Population',bins=bins, ec=\"k\")\n",
        "\n",
        "g.axes[-1].legend()\n",
        "plt.show()"
      ]
    },
    {
      "cell_type": "code",
      "execution_count": null,
      "id": "0afac57e-458b-4f5d-a3b5-5c8fdbac843c",
      "metadata": {
        "id": "0afac57e-458b-4f5d-a3b5-5c8fdbac843c",
        "outputId": "f7d77b38-6a60-46c5-e8a1-048593691ffc"
      },
      "outputs": [
        {
          "name": "stdout",
          "output_type": "stream",
          "text": [
            "count    7043.000000\n",
            "mean        0.265370\n",
            "std         0.441561\n",
            "min         0.000000\n",
            "25%         0.000000\n",
            "50%         0.000000\n",
            "75%         1.000000\n",
            "max         1.000000\n",
            "Name: Churn Value, dtype: float64\n",
            "mode:  0    0\n",
            "Name: Churn Value, dtype: int64\n",
            "================================================================================\n",
            "0    5174\n",
            "1    1869\n",
            "Name: Churn Value, dtype: int64\n"
          ]
        },
        {
          "data": {
            "image/png": "[encoded data removed]",
            "text/plain": [
              "<Figure size 432x288 with 1 Axes>"
            ]
          },
          "metadata": {
            "needs_background": "light"
          },
          "output_type": "display_data"
        }
      ],
      "source": [
        "# Feature Variable: Internet Type\n",
        "c_palette = ['tab:blue', 'tab:orange','tab:green','tab:grey','tab:red','tab:brown']\n",
        "categorical_summarized(df, x = 'Churn Value', hue='Internet Type', palette=c_palette)"
      ]
    },
    {
      "cell_type": "code",
      "execution_count": null,
      "id": "65224c60-b301-456d-9e6a-09b6fdc161a0",
      "metadata": {
        "id": "65224c60-b301-456d-9e6a-09b6fdc161a0",
        "outputId": "18bdc2f9-505f-4b27-8d38-173e708c05db"
      },
      "outputs": [
        {
          "name": "stdout",
          "output_type": "stream",
          "text": [
            "count    7043.000000\n",
            "mean        0.265370\n",
            "std         0.441561\n",
            "min         0.000000\n",
            "25%         0.000000\n",
            "50%         0.000000\n",
            "75%         1.000000\n",
            "max         1.000000\n",
            "Name: Churn Value, dtype: float64\n",
            "mode:  0    0\n",
            "Name: Churn Value, dtype: int64\n",
            "================================================================================\n",
            "0    5174\n",
            "1    1869\n",
            "Name: Churn Value, dtype: int64\n"
          ]
        },
        {
          "data": {
            "image/png": "[encoded data removed]",
            "text/plain": [
              "<Figure size 432x288 with 1 Axes>"
            ]
          },
          "metadata": {
            "needs_background": "light"
          },
          "output_type": "display_data"
        }
      ],
      "source": [
        "# Feature Variable: Internet Type\n",
        "c_palette = ['tab:blue', 'tab:orange','tab:green','tab:grey','tab:red','tab:brown']\n",
        "categorical_summarized(df, x = 'Churn Value', hue='Contract', palette=c_palette)"
      ]
    },
    {
      "cell_type": "code",
      "execution_count": null,
      "id": "bedda885-58da-4b27-a6e2-1066c391c4c0",
      "metadata": {
        "id": "bedda885-58da-4b27-a6e2-1066c391c4c0",
        "outputId": "88d4ea9a-35d4-4943-9f8b-e64f06d9b6f8"
      },
      "outputs": [
        {
          "data": {
            "image/png": "[encoded data removed]",
            "text/plain": [
              "<Figure size 432x216 with 2 Axes>"
            ]
          },
          "metadata": {
            "needs_background": "light"
          },
          "output_type": "display_data"
        }
      ],
      "source": [
        "bins = np.linspace(df.Age.min(), df.Age.max(), 10)\n",
        "g = sns.FacetGrid(df, col=\"Gender\", hue=\"Churn Value\", palette=\"Set1\", col_wrap=2)\n",
        "g.map(plt.hist, 'Age', bins=bins, ec=\"k\")\n",
        "\n",
        "g.axes[-1].legend()\n",
        "plt.show()"
      ]
    },
    {
      "cell_type": "code",
      "execution_count": null,
      "id": "758e68b2-00de-4177-9fef-81ff509c9f1b",
      "metadata": {
        "id": "758e68b2-00de-4177-9fef-81ff509c9f1b",
        "outputId": "9a339862-e844-490c-bb71-0d4b232f605c"
      },
      "outputs": [
        {
          "data": {
            "image/png": "[encoded data removed]",
            "text/plain": [
              "<Figure size 432x216 with 2 Axes>"
            ]
          },
          "metadata": {
            "needs_background": "light"
          },
          "output_type": "display_data"
        }
      ],
      "source": [
        "# untuk numerik\n",
        "bins = np.linspace(df['Avg Monthly GB Download'].min(), df['Avg Monthly GB Download'].max(), 10)\n",
        "g = sns.FacetGrid(df, col=\"Gender\", hue=\"Churn Value\", palette=\"Set1\", col_wrap=2)\n",
        "g.map(plt.hist, 'Avg Monthly GB Download', bins=bins, ec=\"k\")\n",
        "\n",
        "g.axes[-1].legend()\n",
        "plt.show()"
      ]
    },
    {
      "cell_type": "code",
      "execution_count": null,
      "id": "8cb8703e-7997-470a-ab91-bb7818ff1255",
      "metadata": {
        "id": "8cb8703e-7997-470a-ab91-bb7818ff1255",
        "outputId": "79c1bd7e-4d7f-46fa-fa6e-1806a22665a9"
      },
      "outputs": [
        {
          "data": {
            "image/png": "[encoded data removed]",
            "text/plain": [
              "<Figure size 432x216 with 2 Axes>"
            ]
          },
          "metadata": {
            "needs_background": "light"
          },
          "output_type": "display_data"
        }
      ],
      "source": [
        "# untuk numerik\n",
        "bins = np.linspace(df['Monthly Charge'].min(), df['Monthly Charge'].max(), 10)\n",
        "g = sns.FacetGrid(df, col=\"Gender\", hue=\"Churn Value\", palette=\"Set1\", col_wrap=2)\n",
        "g.map(plt.hist, 'Monthly Charge', bins=bins, ec=\"k\")\n",
        "\n",
        "g.axes[-1].legend()\n",
        "plt.show()"
      ]
    },
    {
      "cell_type": "code",
      "execution_count": null,
      "id": "bd008853-80c6-4090-8daa-70e0651bf39e",
      "metadata": {
        "id": "bd008853-80c6-4090-8daa-70e0651bf39e",
        "outputId": "4dffb669-3eed-431f-ffb7-1bb6de1e0d65"
      },
      "outputs": [
        {
          "data": {
            "image/png": "[encoded data removed]",
            "text/plain": [
              "<Figure size 432x216 with 2 Axes>"
            ]
          },
          "metadata": {
            "needs_background": "light"
          },
          "output_type": "display_data"
        }
      ],
      "source": [
        "# untuk numerik\n",
        "bins = np.linspace(df['Total Regular Charges'].min(), df['Total Regular Charges'].max(), 10)\n",
        "g = sns.FacetGrid(df, col=\"Gender\", hue=\"Churn Value\", palette=\"Set1\", col_wrap=2)\n",
        "g.map(plt.hist, 'Total Regular Charges', bins=bins, ec=\"k\")\n",
        "\n",
        "g.axes[-1].legend()\n",
        "plt.show()"
      ]
    },
    {
      "cell_type": "code",
      "execution_count": null,
      "id": "306dd58f-ba22-4b33-a6d8-72a274a2ec1c",
      "metadata": {
        "id": "306dd58f-ba22-4b33-a6d8-72a274a2ec1c"
      },
      "outputs": [],
      "source": [
        "df.drop('Customer ID', axis=1, inplace=True)\n",
        "df.drop('Churn Reason', axis=1, inplace=True)\n",
        "df.drop('Churn Category', axis=1, inplace=True)\n",
        "df.drop('Zip Code', axis=1, inplace=True)\n",
        "df.drop('Latitude', axis=1, inplace=True)\n",
        "df.drop('Longitude', axis=1, inplace=True)\n",
        "df.drop('CLTV', axis=1, inplace=True)\n",
        "df.drop('Customer Satisfaction', axis=1, inplace=True)\n",
        "df.drop('City', axis=1, inplace=True)"
      ]
    },
    {
      "cell_type": "code",
      "execution_count": null,
      "id": "f377bfd2-0200-425e-8478-45e3e0ef6a9f",
      "metadata": {
        "id": "f377bfd2-0200-425e-8478-45e3e0ef6a9f",
        "outputId": "6562a73a-ecc0-44b7-90c3-c71ed56949bc"
      },
      "outputs": [
        {
          "data": {
            "text/plain": [
              "Referred a Friend                     object\n",
              "Number of Referrals                    int64\n",
              "Tenure in Months                       int64\n",
              "Offer                                 object\n",
              "Phone Service                         object\n",
              "Avg Monthly Long Distance Charges    float64\n",
              "Multiple Lines                        object\n",
              "Internet Service                      object\n",
              "Internet Type                         object\n",
              "Avg Monthly GB Download                int64\n",
              "Online Security                       object\n",
              "Online Backup                         object\n",
              "Device Protection Plan                object\n",
              "Premium Tech Support                  object\n",
              "Streaming TV                          object\n",
              "Streaming Movies                      object\n",
              "Streaming Music                       object\n",
              "Unlimited Data                        object\n",
              "Contract                              object\n",
              "Paperless Billing                     object\n",
              "Payment Method                        object\n",
              "Monthly Charge                       float64\n",
              "Total Regular Charges                float64\n",
              "Total Refunds                        float64\n",
              "Total Extra Data Charges             float64\n",
              "Total Long Distance Charges          float64\n",
              "Gender                                object\n",
              "Age                                    int64\n",
              "Under 30                              object\n",
              "Senior Citizen                        object\n",
              "Married                               object\n",
              "Dependents                            object\n",
              "Number of Dependents                   int64\n",
              "Population                             int64\n",
              "Churn Value                            int64\n",
              "Total Customer Svc Requests            int64\n",
              "Product/Service Issues Reported        int64\n",
              "dtype: object"
            ]
          },
          "execution_count": 16,
          "metadata": {},
          "output_type": "execute_result"
        }
      ],
      "source": [
        "df.dtypes"
      ]
    },
    {
      "cell_type": "markdown",
      "id": "60fa791c-a948-4a41-8c29-2ba01213d85b",
      "metadata": {
        "id": "60fa791c-a948-4a41-8c29-2ba01213d85b"
      },
      "source": [
        "## Convert Categorical features to numerical values"
      ]
    },
    {
      "cell_type": "code",
      "execution_count": null,
      "id": "1b93d4e1-4f38-498a-b842-f1c2f629ffdd",
      "metadata": {
        "id": "1b93d4e1-4f38-498a-b842-f1c2f629ffdd",
        "outputId": "7ab72f10-f214-41f1-efa1-972b938a3b37"
      },
      "outputs": [
        {
          "data": {
            "text/plain": [
              "Gender  Churn Value\n",
              "Female  0              0.730791\n",
              "        1              0.269209\n",
              "Male    0              0.738397\n",
              "        1              0.261603\n",
              "Name: Churn Value, dtype: float64"
            ]
          },
          "execution_count": 17,
          "metadata": {},
          "output_type": "execute_result"
        }
      ],
      "source": [
        "df.groupby(['Gender'])['Churn Value'].value_counts(normalize=True)"
      ]
    },
    {
      "cell_type": "markdown",
      "id": "dc821bec-b64f-44ad-a57f-66a4459490f5",
      "metadata": {
        "id": "dc821bec-b64f-44ad-a57f-66a4459490f5"
      },
      "source": [
        "73 % of female Not Churn while only 73 % of males Not Churn"
      ]
    },
    {
      "cell_type": "code",
      "execution_count": null,
      "id": "f09db563-1627-4287-bcef-2ef26b8a0b0c",
      "metadata": {
        "id": "f09db563-1627-4287-bcef-2ef26b8a0b0c",
        "outputId": "b16fc809-8602-4ba0-e3f5-8d2dcdb26526"
      },
      "outputs": [
        {
          "data": {
            "text/html": [
              "<div>\n",
              "<style scoped>\n",
              "    .dataframe tbody tr th:only-of-type {\n",
              "        vertical-align: middle;\n",
              "    }\n",
              "\n",
              "    .dataframe tbody tr th {\n",
              "        vertical-align: top;\n",
              "    }\n",
              "\n",
              "    .dataframe thead th {\n",
              "        text-align: right;\n",
              "    }\n",
              "</style>\n",
              "<table border=\"1\" class=\"dataframe\">\n",
              "  <thead>\n",
              "    <tr style=\"text-align: right;\">\n",
              "      <th></th>\n",
              "      <th>Referred a Friend</th>\n",
              "      <th>Number of Referrals</th>\n",
              "      <th>Tenure in Months</th>\n",
              "      <th>Offer</th>\n",
              "      <th>Phone Service</th>\n",
              "      <th>Avg Monthly Long Distance Charges</th>\n",
              "      <th>Multiple Lines</th>\n",
              "      <th>Internet Service</th>\n",
              "      <th>Internet Type</th>\n",
              "      <th>Avg Monthly GB Download</th>\n",
              "      <th>...</th>\n",
              "      <th>Age</th>\n",
              "      <th>Under 30</th>\n",
              "      <th>Senior Citizen</th>\n",
              "      <th>Married</th>\n",
              "      <th>Dependents</th>\n",
              "      <th>Number of Dependents</th>\n",
              "      <th>Population</th>\n",
              "      <th>Churn Value</th>\n",
              "      <th>Total Customer Svc Requests</th>\n",
              "      <th>Product/Service Issues Reported</th>\n",
              "    </tr>\n",
              "  </thead>\n",
              "  <tbody>\n",
              "    <tr>\n",
              "      <th>0</th>\n",
              "      <td>No</td>\n",
              "      <td>0</td>\n",
              "      <td>1</td>\n",
              "      <td>None</td>\n",
              "      <td>No</td>\n",
              "      <td>0.00</td>\n",
              "      <td>No</td>\n",
              "      <td>Yes</td>\n",
              "      <td>Fiber Optic</td>\n",
              "      <td>9</td>\n",
              "      <td>...</td>\n",
              "      <td>78</td>\n",
              "      <td>No</td>\n",
              "      <td>Yes</td>\n",
              "      <td>No</td>\n",
              "      <td>No</td>\n",
              "      <td>0</td>\n",
              "      <td>68701</td>\n",
              "      <td>1</td>\n",
              "      <td>5</td>\n",
              "      <td>0</td>\n",
              "    </tr>\n",
              "    <tr>\n",
              "      <th>1</th>\n",
              "      <td>Yes</td>\n",
              "      <td>1</td>\n",
              "      <td>8</td>\n",
              "      <td>Offer E</td>\n",
              "      <td>Yes</td>\n",
              "      <td>48.85</td>\n",
              "      <td>Yes</td>\n",
              "      <td>Yes</td>\n",
              "      <td>Cable</td>\n",
              "      <td>19</td>\n",
              "      <td>...</td>\n",
              "      <td>74</td>\n",
              "      <td>No</td>\n",
              "      <td>Yes</td>\n",
              "      <td>Yes</td>\n",
              "      <td>Yes</td>\n",
              "      <td>1</td>\n",
              "      <td>55668</td>\n",
              "      <td>1</td>\n",
              "      <td>5</td>\n",
              "      <td>0</td>\n",
              "    </tr>\n",
              "    <tr>\n",
              "      <th>2</th>\n",
              "      <td>No</td>\n",
              "      <td>0</td>\n",
              "      <td>18</td>\n",
              "      <td>Offer D</td>\n",
              "      <td>Yes</td>\n",
              "      <td>11.33</td>\n",
              "      <td>Yes</td>\n",
              "      <td>Yes</td>\n",
              "      <td>Fiber Optic</td>\n",
              "      <td>57</td>\n",
              "      <td>...</td>\n",
              "      <td>71</td>\n",
              "      <td>No</td>\n",
              "      <td>Yes</td>\n",
              "      <td>No</td>\n",
              "      <td>Yes</td>\n",
              "      <td>3</td>\n",
              "      <td>47534</td>\n",
              "      <td>1</td>\n",
              "      <td>1</td>\n",
              "      <td>0</td>\n",
              "    </tr>\n",
              "    <tr>\n",
              "      <th>3</th>\n",
              "      <td>Yes</td>\n",
              "      <td>1</td>\n",
              "      <td>25</td>\n",
              "      <td>Offer C</td>\n",
              "      <td>Yes</td>\n",
              "      <td>19.76</td>\n",
              "      <td>No</td>\n",
              "      <td>Yes</td>\n",
              "      <td>Fiber Optic</td>\n",
              "      <td>13</td>\n",
              "      <td>...</td>\n",
              "      <td>78</td>\n",
              "      <td>No</td>\n",
              "      <td>Yes</td>\n",
              "      <td>Yes</td>\n",
              "      <td>Yes</td>\n",
              "      <td>1</td>\n",
              "      <td>27778</td>\n",
              "      <td>1</td>\n",
              "      <td>1</td>\n",
              "      <td>1</td>\n",
              "    </tr>\n",
              "    <tr>\n",
              "      <th>4</th>\n",
              "      <td>Yes</td>\n",
              "      <td>1</td>\n",
              "      <td>37</td>\n",
              "      <td>Offer C</td>\n",
              "      <td>Yes</td>\n",
              "      <td>6.33</td>\n",
              "      <td>Yes</td>\n",
              "      <td>Yes</td>\n",
              "      <td>Cable</td>\n",
              "      <td>15</td>\n",
              "      <td>...</td>\n",
              "      <td>80</td>\n",
              "      <td>No</td>\n",
              "      <td>Yes</td>\n",
              "      <td>Yes</td>\n",
              "      <td>Yes</td>\n",
              "      <td>1</td>\n",
              "      <td>26265</td>\n",
              "      <td>1</td>\n",
              "      <td>1</td>\n",
              "      <td>0</td>\n",
              "    </tr>\n",
              "  </tbody>\n",
              "</table>\n",
              "<p>5 rows × 37 columns</p>\n",
              "</div>"
            ],
            "text/plain": [
              "  Referred a Friend  Number of Referrals  Tenure in Months    Offer  \\\n",
              "0                No                    0                 1     None   \n",
              "1               Yes                    1                 8  Offer E   \n",
              "2                No                    0                18  Offer D   \n",
              "3               Yes                    1                25  Offer C   \n",
              "4               Yes                    1                37  Offer C   \n",
              "\n",
              "  Phone Service  Avg Monthly Long Distance Charges Multiple Lines  \\\n",
              "0            No                               0.00             No   \n",
              "1           Yes                              48.85            Yes   \n",
              "2           Yes                              11.33            Yes   \n",
              "3           Yes                              19.76             No   \n",
              "4           Yes                               6.33            Yes   \n",
              "\n",
              "  Internet Service Internet Type  Avg Monthly GB Download  ... Age Under 30  \\\n",
              "0              Yes   Fiber Optic                        9  ...  78       No   \n",
              "1              Yes         Cable                       19  ...  74       No   \n",
              "2              Yes   Fiber Optic                       57  ...  71       No   \n",
              "3              Yes   Fiber Optic                       13  ...  78       No   \n",
              "4              Yes         Cable                       15  ...  80       No   \n",
              "\n",
              "  Senior Citizen Married Dependents Number of Dependents Population  \\\n",
              "0            Yes      No         No                    0      68701   \n",
              "1            Yes     Yes        Yes                    1      55668   \n",
              "2            Yes      No        Yes                    3      47534   \n",
              "3            Yes     Yes        Yes                    1      27778   \n",
              "4            Yes     Yes        Yes                    1      26265   \n",
              "\n",
              "  Churn Value Total Customer Svc Requests Product/Service Issues Reported  \n",
              "0           1                           5                               0  \n",
              "1           1                           5                               0  \n",
              "2           1                           1                               0  \n",
              "3           1                           1                               1  \n",
              "4           1                           1                               0  \n",
              "\n",
              "[5 rows x 37 columns]"
            ]
          },
          "execution_count": 18,
          "metadata": {},
          "output_type": "execute_result"
        }
      ],
      "source": [
        "df['Gender'].replace(to_replace=['male','female'], value=[0,1],inplace=True)\n",
        "df.head()"
      ]
    },
    {
      "cell_type": "code",
      "execution_count": null,
      "id": "57216854-6ea5-486e-ab83-062d930f4789",
      "metadata": {
        "id": "57216854-6ea5-486e-ab83-062d930f4789",
        "outputId": "05b3f1d7-89b0-48d0-bc91-73fa236f1ab7"
      },
      "outputs": [
        {
          "data": {
            "text/html": [
              "<div>\n",
              "<style scoped>\n",
              "    .dataframe tbody tr th:only-of-type {\n",
              "        vertical-align: middle;\n",
              "    }\n",
              "\n",
              "    .dataframe tbody tr th {\n",
              "        vertical-align: top;\n",
              "    }\n",
              "\n",
              "    .dataframe thead th {\n",
              "        text-align: right;\n",
              "    }\n",
              "</style>\n",
              "<table border=\"1\" class=\"dataframe\">\n",
              "  <thead>\n",
              "    <tr style=\"text-align: right;\">\n",
              "      <th></th>\n",
              "      <th>Referred a Friend</th>\n",
              "      <th>Number of Referrals</th>\n",
              "      <th>Tenure in Months</th>\n",
              "      <th>Offer</th>\n",
              "      <th>Phone Service</th>\n",
              "      <th>Avg Monthly Long Distance Charges</th>\n",
              "      <th>Multiple Lines</th>\n",
              "      <th>Internet Service</th>\n",
              "      <th>Internet Type</th>\n",
              "      <th>Avg Monthly GB Download</th>\n",
              "      <th>...</th>\n",
              "      <th>Age</th>\n",
              "      <th>Under 30</th>\n",
              "      <th>Senior Citizen</th>\n",
              "      <th>Married</th>\n",
              "      <th>Dependents</th>\n",
              "      <th>Number of Dependents</th>\n",
              "      <th>Population</th>\n",
              "      <th>Churn Value</th>\n",
              "      <th>Total Customer Svc Requests</th>\n",
              "      <th>Product/Service Issues Reported</th>\n",
              "    </tr>\n",
              "  </thead>\n",
              "  <tbody>\n",
              "    <tr>\n",
              "      <th>0</th>\n",
              "      <td>1</td>\n",
              "      <td>0</td>\n",
              "      <td>1</td>\n",
              "      <td>None</td>\n",
              "      <td>1</td>\n",
              "      <td>0.00</td>\n",
              "      <td>1</td>\n",
              "      <td>0</td>\n",
              "      <td>Fiber Optic</td>\n",
              "      <td>9</td>\n",
              "      <td>...</td>\n",
              "      <td>78</td>\n",
              "      <td>1</td>\n",
              "      <td>0</td>\n",
              "      <td>1</td>\n",
              "      <td>1</td>\n",
              "      <td>0</td>\n",
              "      <td>68701</td>\n",
              "      <td>1</td>\n",
              "      <td>5</td>\n",
              "      <td>0</td>\n",
              "    </tr>\n",
              "    <tr>\n",
              "      <th>1</th>\n",
              "      <td>0</td>\n",
              "      <td>1</td>\n",
              "      <td>8</td>\n",
              "      <td>Offer E</td>\n",
              "      <td>0</td>\n",
              "      <td>48.85</td>\n",
              "      <td>0</td>\n",
              "      <td>0</td>\n",
              "      <td>Cable</td>\n",
              "      <td>19</td>\n",
              "      <td>...</td>\n",
              "      <td>74</td>\n",
              "      <td>1</td>\n",
              "      <td>0</td>\n",
              "      <td>0</td>\n",
              "      <td>0</td>\n",
              "      <td>1</td>\n",
              "      <td>55668</td>\n",
              "      <td>1</td>\n",
              "      <td>5</td>\n",
              "      <td>0</td>\n",
              "    </tr>\n",
              "    <tr>\n",
              "      <th>2</th>\n",
              "      <td>1</td>\n",
              "      <td>0</td>\n",
              "      <td>18</td>\n",
              "      <td>Offer D</td>\n",
              "      <td>0</td>\n",
              "      <td>11.33</td>\n",
              "      <td>0</td>\n",
              "      <td>0</td>\n",
              "      <td>Fiber Optic</td>\n",
              "      <td>57</td>\n",
              "      <td>...</td>\n",
              "      <td>71</td>\n",
              "      <td>1</td>\n",
              "      <td>0</td>\n",
              "      <td>1</td>\n",
              "      <td>0</td>\n",
              "      <td>3</td>\n",
              "      <td>47534</td>\n",
              "      <td>1</td>\n",
              "      <td>1</td>\n",
              "      <td>0</td>\n",
              "    </tr>\n",
              "    <tr>\n",
              "      <th>3</th>\n",
              "      <td>0</td>\n",
              "      <td>1</td>\n",
              "      <td>25</td>\n",
              "      <td>Offer C</td>\n",
              "      <td>0</td>\n",
              "      <td>19.76</td>\n",
              "      <td>1</td>\n",
              "      <td>0</td>\n",
              "      <td>Fiber Optic</td>\n",
              "      <td>13</td>\n",
              "      <td>...</td>\n",
              "      <td>78</td>\n",
              "      <td>1</td>\n",
              "      <td>0</td>\n",
              "      <td>0</td>\n",
              "      <td>0</td>\n",
              "      <td>1</td>\n",
              "      <td>27778</td>\n",
              "      <td>1</td>\n",
              "      <td>1</td>\n",
              "      <td>1</td>\n",
              "    </tr>\n",
              "    <tr>\n",
              "      <th>4</th>\n",
              "      <td>0</td>\n",
              "      <td>1</td>\n",
              "      <td>37</td>\n",
              "      <td>Offer C</td>\n",
              "      <td>0</td>\n",
              "      <td>6.33</td>\n",
              "      <td>0</td>\n",
              "      <td>0</td>\n",
              "      <td>Cable</td>\n",
              "      <td>15</td>\n",
              "      <td>...</td>\n",
              "      <td>80</td>\n",
              "      <td>1</td>\n",
              "      <td>0</td>\n",
              "      <td>0</td>\n",
              "      <td>0</td>\n",
              "      <td>1</td>\n",
              "      <td>26265</td>\n",
              "      <td>1</td>\n",
              "      <td>1</td>\n",
              "      <td>0</td>\n",
              "    </tr>\n",
              "  </tbody>\n",
              "</table>\n",
              "<p>5 rows × 37 columns</p>\n",
              "</div>"
            ],
            "text/plain": [
              "   Referred a Friend  Number of Referrals  Tenure in Months    Offer  \\\n",
              "0                  1                    0                 1     None   \n",
              "1                  0                    1                 8  Offer E   \n",
              "2                  1                    0                18  Offer D   \n",
              "3                  0                    1                25  Offer C   \n",
              "4                  0                    1                37  Offer C   \n",
              "\n",
              "   Phone Service  Avg Monthly Long Distance Charges  Multiple Lines  \\\n",
              "0              1                               0.00               1   \n",
              "1              0                              48.85               0   \n",
              "2              0                              11.33               0   \n",
              "3              0                              19.76               1   \n",
              "4              0                               6.33               0   \n",
              "\n",
              "   Internet Service Internet Type  Avg Monthly GB Download  ...  Age  \\\n",
              "0                 0   Fiber Optic                        9  ...   78   \n",
              "1                 0         Cable                       19  ...   74   \n",
              "2                 0   Fiber Optic                       57  ...   71   \n",
              "3                 0   Fiber Optic                       13  ...   78   \n",
              "4                 0         Cable                       15  ...   80   \n",
              "\n",
              "   Under 30  Senior Citizen  Married  Dependents  Number of Dependents  \\\n",
              "0         1               0        1           1                     0   \n",
              "1         1               0        0           0                     1   \n",
              "2         1               0        1           0                     3   \n",
              "3         1               0        0           0                     1   \n",
              "4         1               0        0           0                     1   \n",
              "\n",
              "   Population  Churn Value Total Customer Svc Requests  \\\n",
              "0       68701            1                           5   \n",
              "1       55668            1                           5   \n",
              "2       47534            1                           1   \n",
              "3       27778            1                           1   \n",
              "4       26265            1                           1   \n",
              "\n",
              "   Product/Service Issues Reported  \n",
              "0                                0  \n",
              "1                                0  \n",
              "2                                0  \n",
              "3                                1  \n",
              "4                                0  \n",
              "\n",
              "[5 rows x 37 columns]"
            ]
          },
          "execution_count": 19,
          "metadata": {},
          "output_type": "execute_result"
        }
      ],
      "source": [
        "df.replace(to_replace=['Yes','No'], value=[0,1],inplace=True)\n",
        "df.head()"
      ]
    },
    {
      "cell_type": "code",
      "execution_count": null,
      "id": "58c4ebd6-5ef4-468b-a041-2defbd2b1fd5",
      "metadata": {
        "id": "58c4ebd6-5ef4-468b-a041-2defbd2b1fd5",
        "outputId": "45fb36c0-800c-4cc6-acd1-fbde10478dda"
      },
      "outputs": [
        {
          "data": {
            "text/plain": [
              "Contract        Churn Value\n",
              "Month-to-Month  0              0.541551\n",
              "                1              0.458449\n",
              "One Year        0              0.892903\n",
              "                1              0.107097\n",
              "Two Year        0              0.974509\n",
              "                1              0.025491\n",
              "Name: Churn Value, dtype: float64"
            ]
          },
          "execution_count": 20,
          "metadata": {},
          "output_type": "execute_result"
        }
      ],
      "source": [
        "df.groupby(['Contract'])['Churn Value'].value_counts(normalize=True)"
      ]
    },
    {
      "cell_type": "code",
      "execution_count": null,
      "id": "ad1d5382-a1b9-4ebd-8584-b4e4bd7a7b81",
      "metadata": {
        "id": "ad1d5382-a1b9-4ebd-8584-b4e4bd7a7b81",
        "outputId": "afeca0e9-a002-4a62-93c2-d5c2fefc1be7"
      },
      "outputs": [
        {
          "data": {
            "text/plain": [
              "Internet Type  Churn Value\n",
              "Cable          1              0.516171\n",
              "               0              0.483829\n",
              "DSL            0              0.687500\n",
              "               1              0.312500\n",
              "Fiber Optic    0              0.811000\n",
              "               1              0.189000\n",
              "None           0              0.925950\n",
              "               1              0.074050\n",
              "Name: Churn Value, dtype: float64"
            ]
          },
          "execution_count": 21,
          "metadata": {},
          "output_type": "execute_result"
        }
      ],
      "source": [
        "df.groupby(['Internet Type'])['Churn Value'].value_counts(normalize=True)"
      ]
    },
    {
      "cell_type": "code",
      "execution_count": null,
      "id": "93bcd09c-c5e7-4015-b147-684fe2b4d556",
      "metadata": {
        "id": "93bcd09c-c5e7-4015-b147-684fe2b4d556",
        "outputId": "4406a3d4-78ea-4bb8-aaa0-bca0b0598157"
      },
      "outputs": [
        {
          "data": {
            "text/plain": [
              "Gender  Churn Value\n",
              "Female  0              0.730791\n",
              "        1              0.269209\n",
              "Male    0              0.738397\n",
              "        1              0.261603\n",
              "Name: Churn Value, dtype: float64"
            ]
          },
          "execution_count": 22,
          "metadata": {},
          "output_type": "execute_result"
        }
      ],
      "source": [
        "df.groupby(['Gender'])['Churn Value'].value_counts(normalize=True)"
      ]
    },
    {
      "cell_type": "code",
      "execution_count": null,
      "id": "11a93bf4-6fe6-4bf8-93d3-6742cb999693",
      "metadata": {
        "id": "11a93bf4-6fe6-4bf8-93d3-6742cb999693",
        "outputId": "2e847db3-877a-43aa-96e9-0bbb8aa0277a"
      },
      "outputs": [
        {
          "data": {
            "text/html": [
              "<div>\n",
              "<style scoped>\n",
              "    .dataframe tbody tr th:only-of-type {\n",
              "        vertical-align: middle;\n",
              "    }\n",
              "\n",
              "    .dataframe tbody tr th {\n",
              "        vertical-align: top;\n",
              "    }\n",
              "\n",
              "    .dataframe thead th {\n",
              "        text-align: right;\n",
              "    }\n",
              "</style>\n",
              "<table border=\"1\" class=\"dataframe\">\n",
              "  <thead>\n",
              "    <tr style=\"text-align: right;\">\n",
              "      <th></th>\n",
              "      <th>Tenure in Months</th>\n",
              "      <th>Internet Type</th>\n",
              "      <th>Contract</th>\n",
              "      <th>Churn Value</th>\n",
              "      <th>Age</th>\n",
              "      <th>Gender</th>\n",
              "    </tr>\n",
              "  </thead>\n",
              "  <tbody>\n",
              "    <tr>\n",
              "      <th>0</th>\n",
              "      <td>1</td>\n",
              "      <td>Fiber Optic</td>\n",
              "      <td>Month-to-Month</td>\n",
              "      <td>1</td>\n",
              "      <td>78</td>\n",
              "      <td>Male</td>\n",
              "    </tr>\n",
              "    <tr>\n",
              "      <th>1</th>\n",
              "      <td>8</td>\n",
              "      <td>Cable</td>\n",
              "      <td>Month-to-Month</td>\n",
              "      <td>1</td>\n",
              "      <td>74</td>\n",
              "      <td>Female</td>\n",
              "    </tr>\n",
              "    <tr>\n",
              "      <th>2</th>\n",
              "      <td>18</td>\n",
              "      <td>Fiber Optic</td>\n",
              "      <td>Month-to-Month</td>\n",
              "      <td>1</td>\n",
              "      <td>71</td>\n",
              "      <td>Male</td>\n",
              "    </tr>\n",
              "    <tr>\n",
              "      <th>3</th>\n",
              "      <td>25</td>\n",
              "      <td>Fiber Optic</td>\n",
              "      <td>Month-to-Month</td>\n",
              "      <td>1</td>\n",
              "      <td>78</td>\n",
              "      <td>Female</td>\n",
              "    </tr>\n",
              "    <tr>\n",
              "      <th>4</th>\n",
              "      <td>37</td>\n",
              "      <td>Cable</td>\n",
              "      <td>Month-to-Month</td>\n",
              "      <td>1</td>\n",
              "      <td>80</td>\n",
              "      <td>Female</td>\n",
              "    </tr>\n",
              "  </tbody>\n",
              "</table>\n",
              "</div>"
            ],
            "text/plain": [
              "   Tenure in Months Internet Type        Contract  Churn Value  Age  Gender\n",
              "0                 1   Fiber Optic  Month-to-Month            1   78    Male\n",
              "1                 8         Cable  Month-to-Month            1   74  Female\n",
              "2                18   Fiber Optic  Month-to-Month            1   71    Male\n",
              "3                25   Fiber Optic  Month-to-Month            1   78  Female\n",
              "4                37         Cable  Month-to-Month            1   80  Female"
            ]
          },
          "execution_count": 23,
          "metadata": {},
          "output_type": "execute_result"
        }
      ],
      "source": [
        "df[['Tenure in Months','Internet Type','Contract','Churn Value','Age','Gender']].head()"
      ]
    },
    {
      "cell_type": "code",
      "execution_count": null,
      "id": "61b3cfea-3712-4cb9-a7ed-41da7f6daf9b",
      "metadata": {
        "id": "61b3cfea-3712-4cb9-a7ed-41da7f6daf9b",
        "outputId": "529ce88e-300b-4f38-d570-a461935af7f1"
      },
      "outputs": [
        {
          "data": {
            "text/html": [
              "<div>\n",
              "<style scoped>\n",
              "    .dataframe tbody tr th:only-of-type {\n",
              "        vertical-align: middle;\n",
              "    }\n",
              "\n",
              "    .dataframe tbody tr th {\n",
              "        vertical-align: top;\n",
              "    }\n",
              "\n",
              "    .dataframe thead th {\n",
              "        text-align: right;\n",
              "    }\n",
              "</style>\n",
              "<table border=\"1\" class=\"dataframe\">\n",
              "  <thead>\n",
              "    <tr style=\"text-align: right;\">\n",
              "      <th></th>\n",
              "      <th>Referred a Friend</th>\n",
              "      <th>Number of Referrals</th>\n",
              "      <th>Tenure in Months</th>\n",
              "      <th>Phone Service</th>\n",
              "      <th>Avg Monthly Long Distance Charges</th>\n",
              "      <th>Multiple Lines</th>\n",
              "      <th>Internet Service</th>\n",
              "      <th>Avg Monthly GB Download</th>\n",
              "      <th>Online Security</th>\n",
              "      <th>Online Backup</th>\n",
              "      <th>...</th>\n",
              "      <th>Offer B</th>\n",
              "      <th>Offer C</th>\n",
              "      <th>Offer D</th>\n",
              "      <th>Offer E</th>\n",
              "      <th>Bank Withdrawal</th>\n",
              "      <th>Credit Card</th>\n",
              "      <th>Mailed Check</th>\n",
              "      <th>Month-to-Month</th>\n",
              "      <th>One Year</th>\n",
              "      <th>Two Year</th>\n",
              "    </tr>\n",
              "  </thead>\n",
              "  <tbody>\n",
              "    <tr>\n",
              "      <th>0</th>\n",
              "      <td>1</td>\n",
              "      <td>0</td>\n",
              "      <td>1</td>\n",
              "      <td>1</td>\n",
              "      <td>0.00</td>\n",
              "      <td>1</td>\n",
              "      <td>0</td>\n",
              "      <td>9</td>\n",
              "      <td>1</td>\n",
              "      <td>1</td>\n",
              "      <td>...</td>\n",
              "      <td>0</td>\n",
              "      <td>0</td>\n",
              "      <td>0</td>\n",
              "      <td>0</td>\n",
              "      <td>1</td>\n",
              "      <td>0</td>\n",
              "      <td>0</td>\n",
              "      <td>1</td>\n",
              "      <td>0</td>\n",
              "      <td>0</td>\n",
              "    </tr>\n",
              "    <tr>\n",
              "      <th>1</th>\n",
              "      <td>0</td>\n",
              "      <td>1</td>\n",
              "      <td>8</td>\n",
              "      <td>0</td>\n",
              "      <td>48.85</td>\n",
              "      <td>0</td>\n",
              "      <td>0</td>\n",
              "      <td>19</td>\n",
              "      <td>1</td>\n",
              "      <td>0</td>\n",
              "      <td>...</td>\n",
              "      <td>0</td>\n",
              "      <td>0</td>\n",
              "      <td>0</td>\n",
              "      <td>1</td>\n",
              "      <td>0</td>\n",
              "      <td>1</td>\n",
              "      <td>0</td>\n",
              "      <td>1</td>\n",
              "      <td>0</td>\n",
              "      <td>0</td>\n",
              "    </tr>\n",
              "    <tr>\n",
              "      <th>2</th>\n",
              "      <td>1</td>\n",
              "      <td>0</td>\n",
              "      <td>18</td>\n",
              "      <td>0</td>\n",
              "      <td>11.33</td>\n",
              "      <td>0</td>\n",
              "      <td>0</td>\n",
              "      <td>57</td>\n",
              "      <td>1</td>\n",
              "      <td>1</td>\n",
              "      <td>...</td>\n",
              "      <td>0</td>\n",
              "      <td>0</td>\n",
              "      <td>1</td>\n",
              "      <td>0</td>\n",
              "      <td>1</td>\n",
              "      <td>0</td>\n",
              "      <td>0</td>\n",
              "      <td>1</td>\n",
              "      <td>0</td>\n",
              "      <td>0</td>\n",
              "    </tr>\n",
              "    <tr>\n",
              "      <th>3</th>\n",
              "      <td>0</td>\n",
              "      <td>1</td>\n",
              "      <td>25</td>\n",
              "      <td>0</td>\n",
              "      <td>19.76</td>\n",
              "      <td>1</td>\n",
              "      <td>0</td>\n",
              "      <td>13</td>\n",
              "      <td>1</td>\n",
              "      <td>0</td>\n",
              "      <td>...</td>\n",
              "      <td>0</td>\n",
              "      <td>1</td>\n",
              "      <td>0</td>\n",
              "      <td>0</td>\n",
              "      <td>1</td>\n",
              "      <td>0</td>\n",
              "      <td>0</td>\n",
              "      <td>1</td>\n",
              "      <td>0</td>\n",
              "      <td>0</td>\n",
              "    </tr>\n",
              "    <tr>\n",
              "      <th>4</th>\n",
              "      <td>0</td>\n",
              "      <td>1</td>\n",
              "      <td>37</td>\n",
              "      <td>0</td>\n",
              "      <td>6.33</td>\n",
              "      <td>0</td>\n",
              "      <td>0</td>\n",
              "      <td>15</td>\n",
              "      <td>1</td>\n",
              "      <td>1</td>\n",
              "      <td>...</td>\n",
              "      <td>0</td>\n",
              "      <td>1</td>\n",
              "      <td>0</td>\n",
              "      <td>0</td>\n",
              "      <td>1</td>\n",
              "      <td>0</td>\n",
              "      <td>0</td>\n",
              "      <td>1</td>\n",
              "      <td>0</td>\n",
              "      <td>0</td>\n",
              "    </tr>\n",
              "  </tbody>\n",
              "</table>\n",
              "<p>5 rows × 39 columns</p>\n",
              "</div>"
            ],
            "text/plain": [
              "   Referred a Friend  Number of Referrals  Tenure in Months  Phone Service  \\\n",
              "0                  1                    0                 1              1   \n",
              "1                  0                    1                 8              0   \n",
              "2                  1                    0                18              0   \n",
              "3                  0                    1                25              0   \n",
              "4                  0                    1                37              0   \n",
              "\n",
              "   Avg Monthly Long Distance Charges  Multiple Lines  Internet Service  \\\n",
              "0                               0.00               1                 0   \n",
              "1                              48.85               0                 0   \n",
              "2                              11.33               0                 0   \n",
              "3                              19.76               1                 0   \n",
              "4                               6.33               0                 0   \n",
              "\n",
              "   Avg Monthly GB Download  Online Security  Online Backup  ...  Offer B  \\\n",
              "0                        9                1              1  ...        0   \n",
              "1                       19                1              0  ...        0   \n",
              "2                       57                1              1  ...        0   \n",
              "3                       13                1              0  ...        0   \n",
              "4                       15                1              1  ...        0   \n",
              "\n",
              "   Offer C  Offer D  Offer E  Bank Withdrawal  Credit Card  Mailed Check  \\\n",
              "0        0        0        0                1            0             0   \n",
              "1        0        0        1                0            1             0   \n",
              "2        0        1        0                1            0             0   \n",
              "3        1        0        0                1            0             0   \n",
              "4        1        0        0                1            0             0   \n",
              "\n",
              "   Month-to-Month  One Year  Two Year  \n",
              "0               1         0         0  \n",
              "1               1         0         0  \n",
              "2               1         0         0  \n",
              "3               1         0         0  \n",
              "4               1         0         0  \n",
              "\n",
              "[5 rows x 39 columns]"
            ]
          },
          "execution_count": 24,
          "metadata": {},
          "output_type": "execute_result"
        }
      ],
      "source": [
        "f1 = df[['Referred a Friend','Number of Referrals','Tenure in Months','Phone Service','Avg Monthly Long Distance Charges','Multiple Lines','Internet Service','Avg Monthly GB Download','Online Security','Online Backup','Device Protection Plan','Premium Tech Support','Streaming TV','Streaming Movies','Streaming Music','Unlimited Data','Paperless Billing','Age','Senior Citizen','Married','Dependents']]\n",
        "f1 = pd.concat([f1,pd.get_dummies(df['Internet Type'])], axis=1) # untuk dummies jgn pake variabel biner\n",
        "f1 = pd.concat([f1,pd.get_dummies(df['Gender'])], axis=1)\n",
        "f1 = pd.concat([f1,pd.get_dummies(df['Offer'])], axis=1)\n",
        "f1 = pd.concat([f1,pd.get_dummies(df['Payment Method'])], axis=1)\n",
        "f1 = pd.concat([f1,pd.get_dummies(df['Contract'])], axis=1)\n",
        "#df.drop('Offer', axis=1, inplace=True)\n",
        "#df.drop('Internet Type', axis=1, inplace=True)\n",
        "#df.drop('Gender', axis=1, inplace=True)\n",
        "#df.drop('Payment Method', axis=1, inplace=True)\n",
        "#df.drop('Contract', axis=1, inplace=True)\n",
        "#f1 = df.drop(['Churn Value'], axis=1, inplace=True)\n",
        "f1.head()\n"
      ]
    },
    {
      "cell_type": "code",
      "execution_count": null,
      "id": "0acce9d1-9733-4771-bc41-6ad1008aa884",
      "metadata": {
        "id": "0acce9d1-9733-4771-bc41-6ad1008aa884",
        "outputId": "9a4d57d7-a0f2-4358-8b32-b312cfbe85b9"
      },
      "outputs": [
        {
          "data": {
            "text/plain": [
              "['Referred a Friend',\n",
              " 'Number of Referrals',\n",
              " 'Tenure in Months',\n",
              " 'Phone Service',\n",
              " 'Avg Monthly Long Distance Charges',\n",
              " 'Multiple Lines',\n",
              " 'Internet Service',\n",
              " 'Avg Monthly GB Download',\n",
              " 'Online Security',\n",
              " 'Online Backup',\n",
              " 'Device Protection Plan',\n",
              " 'Premium Tech Support',\n",
              " 'Streaming TV',\n",
              " 'Streaming Movies',\n",
              " 'Streaming Music',\n",
              " 'Unlimited Data',\n",
              " 'Paperless Billing',\n",
              " 'Age',\n",
              " 'Senior Citizen',\n",
              " 'Married',\n",
              " 'Dependents',\n",
              " 'Cable',\n",
              " 'DSL',\n",
              " 'Fiber Optic',\n",
              " 'None',\n",
              " 'Female',\n",
              " 'Male',\n",
              " 'None',\n",
              " 'Offer A',\n",
              " 'Offer B',\n",
              " 'Offer C',\n",
              " 'Offer D',\n",
              " 'Offer E',\n",
              " 'Bank Withdrawal',\n",
              " 'Credit Card',\n",
              " 'Mailed Check',\n",
              " 'Month-to-Month',\n",
              " 'One Year',\n",
              " 'Two Year']"
            ]
          },
          "execution_count": 25,
          "metadata": {},
          "output_type": "execute_result"
        }
      ],
      "source": [
        "list(f1.columns)"
      ]
    },
    {
      "cell_type": "code",
      "execution_count": null,
      "id": "199a6bc4-feba-411e-93df-f55e4972412d",
      "metadata": {
        "id": "199a6bc4-feba-411e-93df-f55e4972412d",
        "outputId": "c4d5da41-daeb-46e1-d70b-687b73f5e409"
      },
      "outputs": [
        {
          "data": {
            "text/html": [
              "<div>\n",
              "<style scoped>\n",
              "    .dataframe tbody tr th:only-of-type {\n",
              "        vertical-align: middle;\n",
              "    }\n",
              "\n",
              "    .dataframe tbody tr th {\n",
              "        vertical-align: top;\n",
              "    }\n",
              "\n",
              "    .dataframe thead th {\n",
              "        text-align: right;\n",
              "    }\n",
              "</style>\n",
              "<table border=\"1\" class=\"dataframe\">\n",
              "  <thead>\n",
              "    <tr style=\"text-align: right;\">\n",
              "      <th></th>\n",
              "      <th>Referred a Friend</th>\n",
              "      <th>Number of Referrals</th>\n",
              "      <th>Tenure in Months</th>\n",
              "      <th>Phone Service</th>\n",
              "      <th>Avg Monthly Long Distance Charges</th>\n",
              "      <th>Multiple Lines</th>\n",
              "      <th>Internet Service</th>\n",
              "      <th>Avg Monthly GB Download</th>\n",
              "      <th>Online Security</th>\n",
              "      <th>Online Backup</th>\n",
              "      <th>...</th>\n",
              "      <th>Offer B</th>\n",
              "      <th>Offer C</th>\n",
              "      <th>Offer D</th>\n",
              "      <th>Offer E</th>\n",
              "      <th>Bank Withdrawal</th>\n",
              "      <th>Credit Card</th>\n",
              "      <th>Mailed Check</th>\n",
              "      <th>Month-to-Month</th>\n",
              "      <th>One Year</th>\n",
              "      <th>Two Year</th>\n",
              "    </tr>\n",
              "  </thead>\n",
              "  <tbody>\n",
              "    <tr>\n",
              "      <th>0</th>\n",
              "      <td>1</td>\n",
              "      <td>0</td>\n",
              "      <td>1</td>\n",
              "      <td>1</td>\n",
              "      <td>0.00</td>\n",
              "      <td>1</td>\n",
              "      <td>0</td>\n",
              "      <td>9</td>\n",
              "      <td>1</td>\n",
              "      <td>1</td>\n",
              "      <td>...</td>\n",
              "      <td>0</td>\n",
              "      <td>0</td>\n",
              "      <td>0</td>\n",
              "      <td>0</td>\n",
              "      <td>1</td>\n",
              "      <td>0</td>\n",
              "      <td>0</td>\n",
              "      <td>1</td>\n",
              "      <td>0</td>\n",
              "      <td>0</td>\n",
              "    </tr>\n",
              "    <tr>\n",
              "      <th>1</th>\n",
              "      <td>0</td>\n",
              "      <td>1</td>\n",
              "      <td>8</td>\n",
              "      <td>0</td>\n",
              "      <td>48.85</td>\n",
              "      <td>0</td>\n",
              "      <td>0</td>\n",
              "      <td>19</td>\n",
              "      <td>1</td>\n",
              "      <td>0</td>\n",
              "      <td>...</td>\n",
              "      <td>0</td>\n",
              "      <td>0</td>\n",
              "      <td>0</td>\n",
              "      <td>1</td>\n",
              "      <td>0</td>\n",
              "      <td>1</td>\n",
              "      <td>0</td>\n",
              "      <td>1</td>\n",
              "      <td>0</td>\n",
              "      <td>0</td>\n",
              "    </tr>\n",
              "    <tr>\n",
              "      <th>2</th>\n",
              "      <td>1</td>\n",
              "      <td>0</td>\n",
              "      <td>18</td>\n",
              "      <td>0</td>\n",
              "      <td>11.33</td>\n",
              "      <td>0</td>\n",
              "      <td>0</td>\n",
              "      <td>57</td>\n",
              "      <td>1</td>\n",
              "      <td>1</td>\n",
              "      <td>...</td>\n",
              "      <td>0</td>\n",
              "      <td>0</td>\n",
              "      <td>1</td>\n",
              "      <td>0</td>\n",
              "      <td>1</td>\n",
              "      <td>0</td>\n",
              "      <td>0</td>\n",
              "      <td>1</td>\n",
              "      <td>0</td>\n",
              "      <td>0</td>\n",
              "    </tr>\n",
              "    <tr>\n",
              "      <th>3</th>\n",
              "      <td>0</td>\n",
              "      <td>1</td>\n",
              "      <td>25</td>\n",
              "      <td>0</td>\n",
              "      <td>19.76</td>\n",
              "      <td>1</td>\n",
              "      <td>0</td>\n",
              "      <td>13</td>\n",
              "      <td>1</td>\n",
              "      <td>0</td>\n",
              "      <td>...</td>\n",
              "      <td>0</td>\n",
              "      <td>1</td>\n",
              "      <td>0</td>\n",
              "      <td>0</td>\n",
              "      <td>1</td>\n",
              "      <td>0</td>\n",
              "      <td>0</td>\n",
              "      <td>1</td>\n",
              "      <td>0</td>\n",
              "      <td>0</td>\n",
              "    </tr>\n",
              "    <tr>\n",
              "      <th>4</th>\n",
              "      <td>0</td>\n",
              "      <td>1</td>\n",
              "      <td>37</td>\n",
              "      <td>0</td>\n",
              "      <td>6.33</td>\n",
              "      <td>0</td>\n",
              "      <td>0</td>\n",
              "      <td>15</td>\n",
              "      <td>1</td>\n",
              "      <td>1</td>\n",
              "      <td>...</td>\n",
              "      <td>0</td>\n",
              "      <td>1</td>\n",
              "      <td>0</td>\n",
              "      <td>0</td>\n",
              "      <td>1</td>\n",
              "      <td>0</td>\n",
              "      <td>0</td>\n",
              "      <td>1</td>\n",
              "      <td>0</td>\n",
              "      <td>0</td>\n",
              "    </tr>\n",
              "  </tbody>\n",
              "</table>\n",
              "<p>5 rows × 39 columns</p>\n",
              "</div>"
            ],
            "text/plain": [
              "   Referred a Friend  Number of Referrals  Tenure in Months  Phone Service  \\\n",
              "0                  1                    0                 1              1   \n",
              "1                  0                    1                 8              0   \n",
              "2                  1                    0                18              0   \n",
              "3                  0                    1                25              0   \n",
              "4                  0                    1                37              0   \n",
              "\n",
              "   Avg Monthly Long Distance Charges  Multiple Lines  Internet Service  \\\n",
              "0                               0.00               1                 0   \n",
              "1                              48.85               0                 0   \n",
              "2                              11.33               0                 0   \n",
              "3                              19.76               1                 0   \n",
              "4                               6.33               0                 0   \n",
              "\n",
              "   Avg Monthly GB Download  Online Security  Online Backup  ...  Offer B  \\\n",
              "0                        9                1              1  ...        0   \n",
              "1                       19                1              0  ...        0   \n",
              "2                       57                1              1  ...        0   \n",
              "3                       13                1              0  ...        0   \n",
              "4                       15                1              1  ...        0   \n",
              "\n",
              "   Offer C  Offer D  Offer E  Bank Withdrawal  Credit Card  Mailed Check  \\\n",
              "0        0        0        0                1            0             0   \n",
              "1        0        0        1                0            1             0   \n",
              "2        0        1        0                1            0             0   \n",
              "3        1        0        0                1            0             0   \n",
              "4        1        0        0                1            0             0   \n",
              "\n",
              "   Month-to-Month  One Year  Two Year  \n",
              "0               1         0         0  \n",
              "1               1         0         0  \n",
              "2               1         0         0  \n",
              "3               1         0         0  \n",
              "4               1         0         0  \n",
              "\n",
              "[5 rows x 39 columns]"
            ]
          },
          "execution_count": 26,
          "metadata": {},
          "output_type": "execute_result"
        }
      ],
      "source": [
        "X = f1\n",
        "X[0:5]"
      ]
    },
    {
      "cell_type": "code",
      "execution_count": null,
      "id": "284862e3-2f0a-4d15-9e8e-990db0b0dee0",
      "metadata": {
        "id": "284862e3-2f0a-4d15-9e8e-990db0b0dee0",
        "outputId": "1c29e38a-94f2-4379-b5d1-c4dccf59cea4"
      },
      "outputs": [
        {
          "data": {
            "text/plain": [
              "Referred a Friend                      int64\n",
              "Number of Referrals                    int64\n",
              "Tenure in Months                       int64\n",
              "Offer                                 object\n",
              "Phone Service                          int64\n",
              "Avg Monthly Long Distance Charges    float64\n",
              "Multiple Lines                         int64\n",
              "Internet Service                       int64\n",
              "Internet Type                         object\n",
              "Avg Monthly GB Download                int64\n",
              "Online Security                        int64\n",
              "Online Backup                          int64\n",
              "Device Protection Plan                 int64\n",
              "Premium Tech Support                   int64\n",
              "Streaming TV                           int64\n",
              "Streaming Movies                       int64\n",
              "Streaming Music                        int64\n",
              "Unlimited Data                         int64\n",
              "Contract                              object\n",
              "Paperless Billing                      int64\n",
              "Payment Method                        object\n",
              "Monthly Charge                       float64\n",
              "Total Regular Charges                float64\n",
              "Total Refunds                        float64\n",
              "Total Extra Data Charges             float64\n",
              "Total Long Distance Charges          float64\n",
              "Gender                                object\n",
              "Age                                    int64\n",
              "Under 30                               int64\n",
              "Senior Citizen                         int64\n",
              "Married                                int64\n",
              "Dependents                             int64\n",
              "Number of Dependents                   int64\n",
              "Population                             int64\n",
              "Churn Value                            int64\n",
              "Total Customer Svc Requests            int64\n",
              "Product/Service Issues Reported        int64\n",
              "dtype: object"
            ]
          },
          "execution_count": 27,
          "metadata": {},
          "output_type": "execute_result"
        }
      ],
      "source": [
        "df.dtypes"
      ]
    },
    {
      "cell_type": "code",
      "execution_count": null,
      "id": "ef27d593-9ec1-4054-8809-35fe566d69d1",
      "metadata": {
        "id": "ef27d593-9ec1-4054-8809-35fe566d69d1",
        "outputId": "1a19de89-debf-4171-bfca-a1205769e052"
      },
      "outputs": [
        {
          "data": {
            "text/html": [
              "<div>\n",
              "<style scoped>\n",
              "    .dataframe tbody tr th:only-of-type {\n",
              "        vertical-align: middle;\n",
              "    }\n",
              "\n",
              "    .dataframe tbody tr th {\n",
              "        vertical-align: top;\n",
              "    }\n",
              "\n",
              "    .dataframe thead th {\n",
              "        text-align: right;\n",
              "    }\n",
              "</style>\n",
              "<table border=\"1\" class=\"dataframe\">\n",
              "  <thead>\n",
              "    <tr style=\"text-align: right;\">\n",
              "      <th></th>\n",
              "      <th>Referred a Friend</th>\n",
              "      <th>Number of Referrals</th>\n",
              "      <th>Tenure in Months</th>\n",
              "      <th>Offer</th>\n",
              "      <th>Phone Service</th>\n",
              "      <th>Avg Monthly Long Distance Charges</th>\n",
              "      <th>Multiple Lines</th>\n",
              "      <th>Internet Service</th>\n",
              "      <th>Internet Type</th>\n",
              "      <th>Avg Monthly GB Download</th>\n",
              "      <th>...</th>\n",
              "      <th>Age</th>\n",
              "      <th>Under 30</th>\n",
              "      <th>Senior Citizen</th>\n",
              "      <th>Married</th>\n",
              "      <th>Dependents</th>\n",
              "      <th>Number of Dependents</th>\n",
              "      <th>Population</th>\n",
              "      <th>Churn Value</th>\n",
              "      <th>Total Customer Svc Requests</th>\n",
              "      <th>Product/Service Issues Reported</th>\n",
              "    </tr>\n",
              "  </thead>\n",
              "  <tbody>\n",
              "    <tr>\n",
              "      <th>0</th>\n",
              "      <td>1</td>\n",
              "      <td>0</td>\n",
              "      <td>1</td>\n",
              "      <td>None</td>\n",
              "      <td>1</td>\n",
              "      <td>0.00</td>\n",
              "      <td>1</td>\n",
              "      <td>0</td>\n",
              "      <td>Fiber Optic</td>\n",
              "      <td>9</td>\n",
              "      <td>...</td>\n",
              "      <td>78</td>\n",
              "      <td>1</td>\n",
              "      <td>0</td>\n",
              "      <td>1</td>\n",
              "      <td>1</td>\n",
              "      <td>0</td>\n",
              "      <td>68701</td>\n",
              "      <td>Yes</td>\n",
              "      <td>5</td>\n",
              "      <td>0</td>\n",
              "    </tr>\n",
              "    <tr>\n",
              "      <th>1</th>\n",
              "      <td>0</td>\n",
              "      <td>1</td>\n",
              "      <td>8</td>\n",
              "      <td>Offer E</td>\n",
              "      <td>0</td>\n",
              "      <td>48.85</td>\n",
              "      <td>0</td>\n",
              "      <td>0</td>\n",
              "      <td>Cable</td>\n",
              "      <td>19</td>\n",
              "      <td>...</td>\n",
              "      <td>74</td>\n",
              "      <td>1</td>\n",
              "      <td>0</td>\n",
              "      <td>0</td>\n",
              "      <td>0</td>\n",
              "      <td>1</td>\n",
              "      <td>55668</td>\n",
              "      <td>Yes</td>\n",
              "      <td>5</td>\n",
              "      <td>0</td>\n",
              "    </tr>\n",
              "    <tr>\n",
              "      <th>2</th>\n",
              "      <td>1</td>\n",
              "      <td>0</td>\n",
              "      <td>18</td>\n",
              "      <td>Offer D</td>\n",
              "      <td>0</td>\n",
              "      <td>11.33</td>\n",
              "      <td>0</td>\n",
              "      <td>0</td>\n",
              "      <td>Fiber Optic</td>\n",
              "      <td>57</td>\n",
              "      <td>...</td>\n",
              "      <td>71</td>\n",
              "      <td>1</td>\n",
              "      <td>0</td>\n",
              "      <td>1</td>\n",
              "      <td>0</td>\n",
              "      <td>3</td>\n",
              "      <td>47534</td>\n",
              "      <td>Yes</td>\n",
              "      <td>1</td>\n",
              "      <td>0</td>\n",
              "    </tr>\n",
              "    <tr>\n",
              "      <th>3</th>\n",
              "      <td>0</td>\n",
              "      <td>1</td>\n",
              "      <td>25</td>\n",
              "      <td>Offer C</td>\n",
              "      <td>0</td>\n",
              "      <td>19.76</td>\n",
              "      <td>1</td>\n",
              "      <td>0</td>\n",
              "      <td>Fiber Optic</td>\n",
              "      <td>13</td>\n",
              "      <td>...</td>\n",
              "      <td>78</td>\n",
              "      <td>1</td>\n",
              "      <td>0</td>\n",
              "      <td>0</td>\n",
              "      <td>0</td>\n",
              "      <td>1</td>\n",
              "      <td>27778</td>\n",
              "      <td>Yes</td>\n",
              "      <td>1</td>\n",
              "      <td>1</td>\n",
              "    </tr>\n",
              "    <tr>\n",
              "      <th>4</th>\n",
              "      <td>0</td>\n",
              "      <td>1</td>\n",
              "      <td>37</td>\n",
              "      <td>Offer C</td>\n",
              "      <td>0</td>\n",
              "      <td>6.33</td>\n",
              "      <td>0</td>\n",
              "      <td>0</td>\n",
              "      <td>Cable</td>\n",
              "      <td>15</td>\n",
              "      <td>...</td>\n",
              "      <td>80</td>\n",
              "      <td>1</td>\n",
              "      <td>0</td>\n",
              "      <td>0</td>\n",
              "      <td>0</td>\n",
              "      <td>1</td>\n",
              "      <td>26265</td>\n",
              "      <td>Yes</td>\n",
              "      <td>1</td>\n",
              "      <td>0</td>\n",
              "    </tr>\n",
              "  </tbody>\n",
              "</table>\n",
              "<p>5 rows × 37 columns</p>\n",
              "</div>"
            ],
            "text/plain": [
              "   Referred a Friend  Number of Referrals  Tenure in Months    Offer  \\\n",
              "0                  1                    0                 1     None   \n",
              "1                  0                    1                 8  Offer E   \n",
              "2                  1                    0                18  Offer D   \n",
              "3                  0                    1                25  Offer C   \n",
              "4                  0                    1                37  Offer C   \n",
              "\n",
              "   Phone Service  Avg Monthly Long Distance Charges  Multiple Lines  \\\n",
              "0              1                               0.00               1   \n",
              "1              0                              48.85               0   \n",
              "2              0                              11.33               0   \n",
              "3              0                              19.76               1   \n",
              "4              0                               6.33               0   \n",
              "\n",
              "   Internet Service Internet Type  Avg Monthly GB Download  ...  Age  \\\n",
              "0                 0   Fiber Optic                        9  ...   78   \n",
              "1                 0         Cable                       19  ...   74   \n",
              "2                 0   Fiber Optic                       57  ...   71   \n",
              "3                 0   Fiber Optic                       13  ...   78   \n",
              "4                 0         Cable                       15  ...   80   \n",
              "\n",
              "   Under 30  Senior Citizen  Married  Dependents  Number of Dependents  \\\n",
              "0         1               0        1           1                     0   \n",
              "1         1               0        0           0                     1   \n",
              "2         1               0        1           0                     3   \n",
              "3         1               0        0           0                     1   \n",
              "4         1               0        0           0                     1   \n",
              "\n",
              "   Population  Churn Value Total Customer Svc Requests  \\\n",
              "0       68701          Yes                           5   \n",
              "1       55668          Yes                           5   \n",
              "2       47534          Yes                           1   \n",
              "3       27778          Yes                           1   \n",
              "4       26265          Yes                           1   \n",
              "\n",
              "   Product/Service Issues Reported  \n",
              "0                                0  \n",
              "1                                0  \n",
              "2                                0  \n",
              "3                                1  \n",
              "4                                0  \n",
              "\n",
              "[5 rows x 37 columns]"
            ]
          },
          "execution_count": 28,
          "metadata": {},
          "output_type": "execute_result"
        }
      ],
      "source": [
        "# Change value in Churn Value into Yes and No\n",
        "df['Churn Value'].replace(to_replace=[1,0], value=['Yes','No'],inplace=True)\n",
        "df.head()"
      ]
    },
    {
      "cell_type": "code",
      "execution_count": null,
      "id": "9c6aa0f1-b66e-4c78-9d60-c73cd278ab12",
      "metadata": {
        "id": "9c6aa0f1-b66e-4c78-9d60-c73cd278ab12",
        "outputId": "a3dce9db-fe2d-49fb-fdaf-27ae35ca01c8"
      },
      "outputs": [
        {
          "data": {
            "text/plain": [
              "array(['Yes', 'Yes', 'Yes', 'Yes', 'Yes'], dtype=object)"
            ]
          },
          "execution_count": 29,
          "metadata": {},
          "output_type": "execute_result"
        }
      ],
      "source": [
        "y = df['Churn Value'].values\n",
        "y[0:5]"
      ]
    },
    {
      "cell_type": "code",
      "execution_count": null,
      "id": "060c7aa3-1c5f-4ec2-88f8-e131ebc9eec2",
      "metadata": {
        "id": "060c7aa3-1c5f-4ec2-88f8-e131ebc9eec2",
        "outputId": "7cedf880-c615-4ba8-96c4-195139d07592"
      },
      "outputs": [
        {
          "data": {
            "text/plain": [
              "array([[ 0.91827815, -0.65040855, -1.27898775,  3.05401039, -1.48630342,\n",
              "         0.85417615, -0.52592737, -0.57816868,  0.63393298,  0.72556272,\n",
              "        -1.38127743,  0.63943864,  0.79013171, -1.25617071,  0.73906221,\n",
              "         0.78942072, -0.8297975 ,  1.88011037, -2.27315869,  0.96662231,\n",
              "         0.54809324, -0.53032473, -0.55969412,  1.4402095 , -0.52592737,\n",
              "        -0.99053183,  0.99053183,  0.90366519, -0.28234362, -0.36400163,\n",
              "        -0.25022621, -0.30571841, -0.3592322 ,  0.89539912, -0.80012225,\n",
              "        -0.24046865,  0.97517667, -0.53120365, -0.60408814],\n",
              "       [-1.08899466, -0.31718476, -0.99374288, -0.32743831,  1.67611954,\n",
              "        -1.17071871, -0.52592737, -0.10077299,  0.63393298, -1.3782406 ,\n",
              "         0.72396752,  0.63943864,  0.79013171,  0.79607014,  0.73906221,\n",
              "         0.78942072, -0.8297975 ,  1.64129246, -2.27315869, -1.03453023,\n",
              "        -1.82450707,  1.88563714, -0.55969412, -0.69434343, -0.52592737,\n",
              "         1.00955867, -1.00955867, -1.10660453, -0.28234362, -0.36400163,\n",
              "        -0.25022621, -0.30571841,  2.78371484, -1.1168204 ,  1.24980901,\n",
              "        -0.24046865,  0.97517667, -0.53120365, -0.60408814],\n",
              "       [ 0.91827815, -0.65040855, -0.58625021, -0.32743831, -0.75282845,\n",
              "        -1.17071871, -0.52592737,  1.71333064,  0.63393298,  0.72556272,\n",
              "         0.72396752,  0.63943864, -1.26561178, -1.25617071, -1.35306607,\n",
              "        -1.26675166, -0.8297975 ,  1.46217902, -2.27315869,  0.96662231,\n",
              "        -1.82450707, -0.53032473, -0.55969412,  1.4402095 , -0.52592737,\n",
              "        -0.99053183,  0.99053183, -1.10660453, -0.28234362, -0.36400163,\n",
              "        -0.25022621,  3.27098388, -0.3592322 ,  0.89539912, -0.80012225,\n",
              "        -0.24046865,  0.97517667, -0.53120365, -0.60408814],\n",
              "       [-1.08899466, -0.31718476, -0.30100534, -0.32743831, -0.207092  ,\n",
              "         0.85417615, -0.52592737, -0.38721041,  0.63393298, -1.3782406 ,\n",
              "        -1.38127743,  0.63943864, -1.26561178, -1.25617071,  0.73906221,\n",
              "         0.78942072, -0.8297975 ,  1.88011037, -2.27315869, -1.03453023,\n",
              "        -1.82450707, -0.53032473, -0.55969412,  1.4402095 , -0.52592737,\n",
              "         1.00955867, -1.00955867, -1.10660453, -0.28234362, -0.36400163,\n",
              "         3.99638391, -0.30571841, -0.3592322 ,  0.89539912, -0.80012225,\n",
              "        -0.24046865,  0.97517667, -0.53120365, -0.60408814],\n",
              "       [-1.08899466, -0.31718476,  0.18798586, -0.32743831, -1.07651555,\n",
              "        -1.17071871, -0.52592737, -0.29173127,  0.63393298,  0.72556272,\n",
              "         0.72396752,  0.63943864,  0.79013171,  0.79607014,  0.73906221,\n",
              "         0.78942072, -0.8297975 ,  1.99951933, -2.27315869, -1.03453023,\n",
              "        -1.82450707,  1.88563714, -0.55969412, -0.69434343, -0.52592737,\n",
              "         1.00955867, -1.00955867, -1.10660453, -0.28234362, -0.36400163,\n",
              "         3.99638391, -0.30571841, -0.3592322 ,  0.89539912, -0.80012225,\n",
              "        -0.24046865,  0.97517667, -0.53120365, -0.60408814]])"
            ]
          },
          "execution_count": 30,
          "metadata": {},
          "output_type": "execute_result"
        }
      ],
      "source": [
        "X = preprocessing.StandardScaler().fit(X).transform(X)\n",
        "X[0:5]"
      ]
    },
    {
      "cell_type": "code",
      "execution_count": null,
      "id": "11edf666-e287-46f2-9c7c-60e7be637e93",
      "metadata": {
        "id": "11edf666-e287-46f2-9c7c-60e7be637e93",
        "outputId": "a85d5205-d8cc-44e9-eeec-164c5c010c72"
      },
      "outputs": [
        {
          "name": "stdout",
          "output_type": "stream",
          "text": [
            "Train set: (4930, 39) (4930,)\n",
            "Test set: (2113, 39) (2113,)\n"
          ]
        }
      ],
      "source": [
        "#Train Test Split Test.csv data\n",
        "from sklearn.model_selection import train_test_split\n",
        "x_train, x_test, y_train, y_test = train_test_split(X, y, test_size=0.3, random_state=42)\n",
        "print ('Train set:', x_train.shape, y_train.shape )\n",
        "print ('Test set:', x_test.shape,  y_test.shape)"
      ]
    },
    {
      "cell_type": "markdown",
      "id": "bfa91498-7f35-4076-aaaa-eb024afbabce",
      "metadata": {
        "id": "bfa91498-7f35-4076-aaaa-eb024afbabce"
      },
      "source": [
        "## Clasification"
      ]
    },
    {
      "cell_type": "markdown",
      "id": "eda5e004-37e0-46a6-a827-2ba4f42c65a1",
      "metadata": {
        "id": "eda5e004-37e0-46a6-a827-2ba4f42c65a1"
      },
      "source": [
        "## K Nearest Neighbor(KNN"
      ]
    },
    {
      "cell_type": "code",
      "execution_count": null,
      "id": "4115e2de-a8a0-4345-bd74-c4922bdf7fda",
      "metadata": {
        "id": "4115e2de-a8a0-4345-bd74-c4922bdf7fda",
        "outputId": "5a072eb7-6767-46ae-eac7-f779028a5753"
      },
      "outputs": [
        {
          "data": {
            "text/plain": [
              "KNeighborsClassifier(n_neighbors=9)"
            ]
          },
          "execution_count": 32,
          "metadata": {},
          "output_type": "execute_result"
        }
      ],
      "source": [
        "#Import Library\n",
        "from sklearn.neighbors import KNeighborsClassifier\n",
        "#I have first started with k=4 and after I have calculated the k=7 with the accuracy optmisation of the testing data\n",
        "k = 9\n",
        "#Train Model and Predict\n",
        "neigh = KNeighborsClassifier(n_neighbors = k).fit(x_train,y_train)\n",
        "neigh"
      ]
    },
    {
      "cell_type": "code",
      "execution_count": null,
      "id": "d002e01b-6462-4895-9514-717c372bdef5",
      "metadata": {
        "id": "d002e01b-6462-4895-9514-717c372bdef5",
        "outputId": "f7715b9b-8b51-4100-ee1a-8fb26ec4dec0"
      },
      "outputs": [
        {
          "data": {
            "text/plain": [
              "array([0.78513961, 0.79744439, 0.80974917, 0.82063417, 0.82584004,\n",
              "       0.82489352, 0.82725982, 0.83388547, 0.83483199])"
            ]
          },
          "execution_count": 33,
          "metadata": {},
          "output_type": "execute_result"
        }
      ],
      "source": [
        "from sklearn import metrics\n",
        "\n",
        "#Find the optimal k\n",
        "\n",
        "Ks = 10\n",
        "mean_acc = np.zeros((Ks-1))\n",
        "std_acc = np.zeros((Ks-1))\n",
        "ConfustionMx = [];\n",
        "for n in range(1,Ks):\n",
        "\n",
        "    #Train Model and Predict\n",
        "    neigh = KNeighborsClassifier(n_neighbors = n).fit(x_train,y_train)\n",
        "    yhat=neigh.predict(x_test)\n",
        "    mean_acc[n-1] = metrics.accuracy_score(y_test, yhat)\n",
        "    std_acc[n-1]=np.std(yhat==y_test)/np.sqrt(yhat.shape[0])\n",
        "\n",
        "mean_acc"
      ]
    },
    {
      "cell_type": "code",
      "execution_count": null,
      "id": "2def0d4f-4e71-42e1-8ab7-75a8550f22db",
      "metadata": {
        "id": "2def0d4f-4e71-42e1-8ab7-75a8550f22db",
        "outputId": "23fe1fc6-dcbe-4825-a480-349a875cdb0e"
      },
      "outputs": [
        {
          "data": {
            "image/png": "[encoded data removed]",
            "text/plain": [
              "<Figure size 432x288 with 1 Axes>"
            ]
          },
          "metadata": {
            "needs_background": "light"
          },
          "output_type": "display_data"
        }
      ],
      "source": [
        "#Plot accuracy for different k Values\n",
        "\n",
        "plt.plot(range(1,Ks),mean_acc,'g')\n",
        "plt.fill_between(range(1,Ks),mean_acc - 1 * std_acc,mean_acc + 1 * std_acc, alpha=0.10)\n",
        "plt.legend(('Accuracy ', '+/- 3xstd'))\n",
        "plt.ylabel('Accuracy ')\n",
        "plt.xlabel('Number of Nabors (K)')\n",
        "plt.tight_layout()\n",
        "plt.show()"
      ]
    },
    {
      "cell_type": "code",
      "execution_count": null,
      "id": "baeb2697-a164-401b-b3d0-5379efc6d04b",
      "metadata": {
        "id": "baeb2697-a164-401b-b3d0-5379efc6d04b",
        "outputId": "6db1e1a7-d502-455f-8b66-b422bbd8dedb"
      },
      "outputs": [
        {
          "name": "stdout",
          "output_type": "stream",
          "text": [
            "The best accuracy was with 0.8348319924278277 with k= 9\n"
          ]
        }
      ],
      "source": [
        "print( \"The best accuracy was with\", mean_acc.max(), \"with k=\", mean_acc.argmax()+1)"
      ]
    },
    {
      "cell_type": "code",
      "execution_count": null,
      "id": "ca2bbd9e-659c-44b5-85fd-6ad59ac28a04",
      "metadata": {
        "id": "ca2bbd9e-659c-44b5-85fd-6ad59ac28a04",
        "outputId": "0b8875aa-aaa0-40c3-b941-e26d2fee9a68"
      },
      "outputs": [
        {
          "data": {
            "text/plain": [
              "KNeighborsClassifier(n_neighbors=9)"
            ]
          },
          "execution_count": 36,
          "metadata": {},
          "output_type": "execute_result"
        }
      ],
      "source": [
        "#Train the model with all training data after have found the optimal K=9\n",
        "k = 9\n",
        "#Train Model\n",
        "KNN_7 = KNeighborsClassifier(n_neighbors = k).fit(x_test,y_test)\n",
        "KNN_7"
      ]
    },
    {
      "cell_type": "code",
      "execution_count": null,
      "id": "bb298e57-e204-4558-bf9f-897d3a1b21cb",
      "metadata": {
        "id": "bb298e57-e204-4558-bf9f-897d3a1b21cb"
      },
      "outputs": [],
      "source": [
        "pred_nb = KNN_7.predict(x_test)"
      ]
    },
    {
      "cell_type": "code",
      "execution_count": null,
      "id": "c6c60777-5928-40c1-bafe-bf23ed7bed3d",
      "metadata": {
        "id": "c6c60777-5928-40c1-bafe-bf23ed7bed3d",
        "outputId": "de56dc72-cb28-4a23-eb14-9b0f4501c53b"
      },
      "outputs": [
        {
          "name": "stdout",
          "output_type": "stream",
          "text": [
            "85.32891623284429\n",
            "[[1364  160]\n",
            " [ 150  439]]\n",
            "              precision    recall  f1-score   support\n",
            "\n",
            "          No       0.90      0.90      0.90      1524\n",
            "         Yes       0.73      0.75      0.74       589\n",
            "\n",
            "    accuracy                           0.85      2113\n",
            "   macro avg       0.82      0.82      0.82      2113\n",
            "weighted avg       0.85      0.85      0.85      2113\n",
            "\n"
          ]
        }
      ],
      "source": [
        "print(metrics.accuracy_score(y_test, pred_nb)*100)\n",
        "print(confusion_matrix(y_test, pred_nb))\n",
        "print(classification_report(y_test, pred_nb))"
      ]
    },
    {
      "cell_type": "markdown",
      "id": "f7944718-58c1-4773-9bd9-3fc4b3a45c46",
      "metadata": {
        "id": "f7944718-58c1-4773-9bd9-3fc4b3a45c46"
      },
      "source": [
        "## Decision Tree"
      ]
    },
    {
      "cell_type": "code",
      "execution_count": null,
      "id": "9d79773f-42a6-4476-afa2-929a852b48e9",
      "metadata": {
        "id": "9d79773f-42a6-4476-afa2-929a852b48e9",
        "outputId": "f7016968-6d77-4575-84f1-d3c63184927e"
      },
      "outputs": [
        {
          "data": {
            "text/plain": [
              "DecisionTreeClassifier(criterion='entropy', max_depth=4)"
            ]
          },
          "execution_count": 40,
          "metadata": {},
          "output_type": "execute_result"
        }
      ],
      "source": [
        "#Importing the library\n",
        "from sklearn.tree import DecisionTreeClassifier\n",
        "#Modelling (\"entropy\" or \"gini\")\n",
        "decisiontree = DecisionTreeClassifier(criterion=\"entropy\", max_depth = 4)\n",
        "decisiontree # it shows the default parameters\n",
        "#Fitting the data X and y\n",
        "decisiontree.fit (x_train,y_train)"
      ]
    },
    {
      "cell_type": "code",
      "execution_count": null,
      "id": "43b287fe-767b-4318-93a2-4434fb50351a",
      "metadata": {
        "id": "43b287fe-767b-4318-93a2-4434fb50351a",
        "outputId": "c72873db-9072-462d-f225-5feb46bdf2ce"
      },
      "outputs": [
        {
          "name": "stdout",
          "output_type": "stream",
          "text": [
            "82.0160908660672\n",
            "[[1467   57]\n",
            " [ 323  266]]\n",
            "              precision    recall  f1-score   support\n",
            "\n",
            "          No       0.82      0.96      0.89      1524\n",
            "         Yes       0.82      0.45      0.58       589\n",
            "\n",
            "    accuracy                           0.82      2113\n",
            "   macro avg       0.82      0.71      0.73      2113\n",
            "weighted avg       0.82      0.82      0.80      2113\n",
            "\n"
          ]
        }
      ],
      "source": [
        "pred_nb = decisiontree.predict(x_test)\n",
        "print(metrics.accuracy_score(y_test, pred_nb)*100)\n",
        "print(confusion_matrix(y_test, pred_nb))\n",
        "print(classification_report(y_test, pred_nb))\n"
      ]
    },
    {
      "cell_type": "code",
      "execution_count": null,
      "id": "f19a596d-313d-4917-a6ca-858ef139e699",
      "metadata": {
        "id": "f19a596d-313d-4917-a6ca-858ef139e699",
        "outputId": "a12e2887-5feb-475c-c680-3caae3f8c7f4"
      },
      "outputs": [
        {
          "data": {
            "text/plain": [
              "array([[1467,   57],\n",
              "       [ 323,  266]], dtype=int64)"
            ]
          },
          "execution_count": 40,
          "metadata": {},
          "output_type": "execute_result"
        }
      ],
      "source": [
        "confusion_matrix(y_test, pred_nb)"
      ]
    },
    {
      "cell_type": "code",
      "execution_count": null,
      "id": "856ec145-b6c0-49b5-9949-02ebc3b1411c",
      "metadata": {
        "id": "856ec145-b6c0-49b5-9949-02ebc3b1411c",
        "outputId": "8917ac6b-9000-417d-f2b5-54ba9b6d8317"
      },
      "outputs": [
        {
          "data": {
            "image/png": "[encoded data removed]",
            "text/plain": [
              "<Figure size 576x360 with 2 Axes>"
            ]
          },
          "metadata": {
            "needs_background": "light"
          },
          "output_type": "display_data"
        }
      ],
      "source": [
        "import seaborn as sns\n",
        "import matplotlib.pyplot as plt\n",
        "f, ax = plt.subplots(figsize=(8,5))\n",
        "sns.heatmap(confusion_matrix(y_test, pred_nb), annot=True, fmt=\".0f\", ax=ax)\n",
        "plt.title(\"Hasil Confusion Matrix\", fontsize=20)\n",
        "plt.xlabel(\"pred_nb\")\n",
        "plt.ylabel(\"y_test\")\n",
        "plt.show()"
      ]
    },
    {
      "cell_type": "markdown",
      "id": "fcbac07a-afa3-48be-880a-5ada48088d8e",
      "metadata": {
        "id": "fcbac07a-afa3-48be-880a-5ada48088d8e"
      },
      "source": [
        "## Support Vector Machine"
      ]
    },
    {
      "cell_type": "code",
      "execution_count": null,
      "id": "27da3afe-d073-4ee1-8f69-e15e80c74645",
      "metadata": {
        "id": "27da3afe-d073-4ee1-8f69-e15e80c74645",
        "outputId": "1b9d4836-3844-4c2b-f4f9-fe533c085a11"
      },
      "outputs": [
        {
          "data": {
            "text/plain": [
              "SVC()"
            ]
          },
          "execution_count": 45,
          "metadata": {},
          "output_type": "execute_result"
        }
      ],
      "source": [
        "#import the library\n",
        "from sklearn import svm\n",
        "clf = svm.SVC(kernel='rbf')\n",
        "clf.fit(x_train,y_train)"
      ]
    },
    {
      "cell_type": "code",
      "execution_count": null,
      "id": "0f17169d-984d-4139-8e4f-2f8eb00b7a08",
      "metadata": {
        "id": "0f17169d-984d-4139-8e4f-2f8eb00b7a08",
        "outputId": "4896e01d-5d9c-4fcb-dfad-4659f04cb4a5"
      },
      "outputs": [
        {
          "name": "stdout",
          "output_type": "stream",
          "text": [
            "85.94415522953148\n",
            "[[1421  103]\n",
            " [ 194  395]]\n",
            "              precision    recall  f1-score   support\n",
            "\n",
            "          No       0.88      0.93      0.91      1524\n",
            "         Yes       0.79      0.67      0.73       589\n",
            "\n",
            "    accuracy                           0.86      2113\n",
            "   macro avg       0.84      0.80      0.82      2113\n",
            "weighted avg       0.86      0.86      0.86      2113\n",
            "\n"
          ]
        }
      ],
      "source": [
        "pred_nb = clf.predict(x_test)\n",
        "print(metrics.accuracy_score(y_test, pred_nb)*100)\n",
        "print(confusion_matrix(y_test, pred_nb))\n",
        "print(classification_report(y_test, pred_nb))"
      ]
    },
    {
      "cell_type": "code",
      "execution_count": null,
      "id": "d5d7f5de-ca17-422b-bb6f-c20b81b8ea6a",
      "metadata": {
        "id": "d5d7f5de-ca17-422b-bb6f-c20b81b8ea6a",
        "outputId": "106d5485-5996-49ed-b06a-438f5346aed0"
      },
      "outputs": [
        {
          "data": {
            "image/png": "[encoded data removed]",
            "text/plain": [
              "<Figure size 576x360 with 2 Axes>"
            ]
          },
          "metadata": {
            "needs_background": "light"
          },
          "output_type": "display_data"
        }
      ],
      "source": [
        "import seaborn as sns\n",
        "import matplotlib.pyplot as plt\n",
        "f, ax = plt.subplots(figsize=(8,5))\n",
        "sns.heatmap(confusion_matrix(y_test, pred_nb), annot=True, fmt=\".0f\", ax=ax)\n",
        "plt.title(\"Hasil Confusion Matrix\", fontsize=20)\n",
        "plt.xlabel(\"pred_nb\")\n",
        "plt.ylabel(\"y_test\")\n",
        "plt.show()"
      ]
    },
    {
      "cell_type": "markdown",
      "id": "836f5a14-26b8-461f-ac14-1de71922855e",
      "metadata": {
        "id": "836f5a14-26b8-461f-ac14-1de71922855e"
      },
      "source": [
        "## Logistic Regression"
      ]
    },
    {
      "cell_type": "code",
      "execution_count": null,
      "id": "495dd929-fa4c-4ec7-9848-d1a1a02b2324",
      "metadata": {
        "id": "495dd929-fa4c-4ec7-9848-d1a1a02b2324",
        "outputId": "ca46c81d-8f89-4651-92e8-e907d3bad792"
      },
      "outputs": [
        {
          "data": {
            "text/plain": [
              "LogisticRegression(C=0.01, class_weight='balanced', solver='liblinear')"
            ]
          },
          "execution_count": 48,
          "metadata": {},
          "output_type": "execute_result"
        }
      ],
      "source": [
        "#Import the library\n",
        "from sklearn.linear_model import LogisticRegression\n",
        "#Modelling\n",
        "LR = LogisticRegression(C=0.01, solver='liblinear', class_weight='balanced').fit(x_train,y_train)\n",
        "LR"
      ]
    },
    {
      "cell_type": "code",
      "execution_count": null,
      "id": "db2490ad-ae5d-44c2-b503-fe8ef01b6016",
      "metadata": {
        "id": "db2490ad-ae5d-44c2-b503-fe8ef01b6016",
        "outputId": "f55043cc-b835-4fd4-8b70-43df73d17bae"
      },
      "outputs": [
        {
          "name": "stdout",
          "output_type": "stream",
          "text": [
            "81.96876478939896\n",
            "[[1213  311]\n",
            " [  70  519]]\n",
            "              precision    recall  f1-score   support\n",
            "\n",
            "          No       0.95      0.80      0.86      1524\n",
            "         Yes       0.63      0.88      0.73       589\n",
            "\n",
            "    accuracy                           0.82      2113\n",
            "   macro avg       0.79      0.84      0.80      2113\n",
            "weighted avg       0.86      0.82      0.83      2113\n",
            "\n"
          ]
        }
      ],
      "source": [
        "pred_nb = LR.predict(x_test)\n",
        "print(metrics.accuracy_score(y_test, pred_nb)*100)\n",
        "print(confusion_matrix(y_test, pred_nb))\n",
        "print(classification_report(y_test, pred_nb))"
      ]
    },
    {
      "cell_type": "code",
      "execution_count": null,
      "id": "31461df5-e2b2-451d-afb9-445e9f9103a2",
      "metadata": {
        "id": "31461df5-e2b2-451d-afb9-445e9f9103a2",
        "outputId": "37110b44-5023-4795-fdeb-40e47744fe45"
      },
      "outputs": [
        {
          "data": {
            "image/png": "[encoded data removed]",
            "text/plain": [
              "<Figure size 576x360 with 2 Axes>"
            ]
          },
          "metadata": {
            "needs_background": "light"
          },
          "output_type": "display_data"
        }
      ],
      "source": [
        "import seaborn as sns\n",
        "import matplotlib.pyplot as plt\n",
        "f, ax = plt.subplots(figsize=(8,5))\n",
        "sns.heatmap(confusion_matrix(y_test, pred_nb), annot=True, fmt=\".0f\", ax=ax)\n",
        "plt.title(\"Hasil Confusion Matrix\", fontsize=20)\n",
        "plt.xlabel(\"pred_nb\")\n",
        "plt.ylabel(\"y_test\")\n",
        "plt.show()"
      ]
    },
    {
      "cell_type": "markdown",
      "id": "b8ba617d-9b02-46ed-baf5-82367ac5c284",
      "metadata": {
        "id": "b8ba617d-9b02-46ed-baf5-82367ac5c284"
      },
      "source": [
        "## GAUSSIAN NB"
      ]
    },
    {
      "cell_type": "code",
      "execution_count": null,
      "id": "1be860db-278b-4a4e-ac73-55316ff3f5d2",
      "metadata": {
        "id": "1be860db-278b-4a4e-ac73-55316ff3f5d2",
        "outputId": "3de07848-cd41-4acb-8e09-38815f053a57"
      },
      "outputs": [
        {
          "data": {
            "text/plain": [
              "GaussianNB()"
            ]
          },
          "execution_count": 51,
          "metadata": {},
          "output_type": "execute_result"
        }
      ],
      "source": [
        "from sklearn.naive_bayes import GaussianNB\n",
        "nb = GaussianNB()\n",
        "nb.fit(x_train, y_train)"
      ]
    },
    {
      "cell_type": "markdown",
      "id": "af789123-9bc4-4233-97df-7585958ff04e",
      "metadata": {
        "id": "af789123-9bc4-4233-97df-7585958ff04e"
      },
      "source": [
        "pred_nb = nb.predict(x_test)\n"
      ]
    },
    {
      "cell_type": "code",
      "execution_count": null,
      "id": "bbefb065-5aa4-48cd-ac04-3f148c9a55e6",
      "metadata": {
        "id": "bbefb065-5aa4-48cd-ac04-3f148c9a55e6",
        "outputId": "8f37937c-137a-46f7-a583-81b40919d79f"
      },
      "outputs": [
        {
          "name": "stdout",
          "output_type": "stream",
          "text": [
            "81.96876478939896\n",
            "[[1213  311]\n",
            " [  70  519]]\n",
            "              precision    recall  f1-score   support\n",
            "\n",
            "          No       0.95      0.80      0.86      1524\n",
            "         Yes       0.63      0.88      0.73       589\n",
            "\n",
            "    accuracy                           0.82      2113\n",
            "   macro avg       0.79      0.84      0.80      2113\n",
            "weighted avg       0.86      0.82      0.83      2113\n",
            "\n"
          ]
        }
      ],
      "source": [
        "print(metrics.accuracy_score(y_test, pred_nb)*100)\n",
        "print(confusion_matrix(y_test, pred_nb))\n",
        "print(classification_report(y_test, pred_nb))"
      ]
    },
    {
      "cell_type": "code",
      "execution_count": null,
      "id": "dc6a4c3c-89d7-4e69-9b5e-87f4043a6436",
      "metadata": {
        "id": "dc6a4c3c-89d7-4e69-9b5e-87f4043a6436",
        "outputId": "f6f70768-1471-459f-a3cd-2e403dfe589c"
      },
      "outputs": [
        {
          "data": {
            "image/png": "[encoded data removed]",
            "text/plain": [
              "<Figure size 576x360 with 2 Axes>"
            ]
          },
          "metadata": {
            "needs_background": "light"
          },
          "output_type": "display_data"
        }
      ],
      "source": [
        "import seaborn as sns\n",
        "import matplotlib.pyplot as plt\n",
        "f, ax = plt.subplots(figsize=(8,5))\n",
        "sns.heatmap(confusion_matrix(y_test, pred_nb), annot=True, fmt=\".0f\", ax=ax)\n",
        "plt.title(\"Hasil Confusion Matrix\", fontsize=20)\n",
        "plt.xlabel(\"pred_nb\")\n",
        "plt.ylabel(\"y_test\")\n",
        "plt.show()"
      ]
    },
    {
      "cell_type": "markdown",
      "id": "2c013ab6-4a93-400f-b26e-f0ce3217970c",
      "metadata": {
        "id": "2c013ab6-4a93-400f-b26e-f0ce3217970c"
      },
      "source": [
        "## Random Forest Classifier"
      ]
    },
    {
      "cell_type": "code",
      "execution_count": null,
      "id": "19502d98-addb-4d93-b77e-dd021a5f2823",
      "metadata": {
        "id": "19502d98-addb-4d93-b77e-dd021a5f2823"
      },
      "outputs": [],
      "source": [
        "from sklearn.ensemble import RandomForestClassifier\n",
        "# 6th Algorithm: Random Forest Classifier\n",
        "rf = RandomForestClassifier()\n",
        "rf.fit(x_train, y_train)\n",
        "pred_rf = rf.predict(x_test)"
      ]
    },
    {
      "cell_type": "code",
      "execution_count": null,
      "id": "0ef0bcf9-595e-448b-b04d-065952465f82",
      "metadata": {
        "id": "0ef0bcf9-595e-448b-b04d-065952465f82",
        "outputId": "d7f76d2a-c097-4783-ffc1-594a7fb01607"
      },
      "outputs": [
        {
          "name": "stdout",
          "output_type": "stream",
          "text": [
            "85.89682915286323\n",
            "[[1425   99]\n",
            " [ 199  390]]\n",
            "              precision    recall  f1-score   support\n",
            "\n",
            "          No       0.88      0.94      0.91      1524\n",
            "         Yes       0.80      0.66      0.72       589\n",
            "\n",
            "    accuracy                           0.86      2113\n",
            "   macro avg       0.84      0.80      0.81      2113\n",
            "weighted avg       0.86      0.86      0.85      2113\n",
            "\n"
          ]
        }
      ],
      "source": [
        "print(metrics.accuracy_score(y_test, pred_rf)*100)\n",
        "print(confusion_matrix(y_test, pred_rf))\n",
        "print(classification_report(y_test, pred_rf))"
      ]
    },
    {
      "cell_type": "code",
      "execution_count": null,
      "id": "bfa178e7-fab8-4e71-a330-caf338c8f8e7",
      "metadata": {
        "id": "bfa178e7-fab8-4e71-a330-caf338c8f8e7",
        "outputId": "7a08bae5-66b9-455c-b884-fd084cccd164"
      },
      "outputs": [
        {
          "data": {
            "image/png": "[encoded data removed]",
            "text/plain": [
              "<Figure size 576x360 with 2 Axes>"
            ]
          },
          "metadata": {
            "needs_background": "light"
          },
          "output_type": "display_data"
        }
      ],
      "source": [
        "import seaborn as sns\n",
        "import matplotlib.pyplot as plt\n",
        "f, ax = plt.subplots(figsize=(8,5))\n",
        "sns.heatmap(confusion_matrix(y_test, pred_nb), annot=True, fmt=\".0f\", ax=ax)\n",
        "plt.title(\"Hasil Confusion Matrix\", fontsize=20)\n",
        "plt.xlabel(\"pred_nb\")\n",
        "plt.ylabel(\"y_test\")\n",
        "plt.show()"
      ]
    },
    {
      "cell_type": "code",
      "execution_count": null,
      "id": "b1379122-41b4-4e73-963a-b26cde180c7d",
      "metadata": {
        "id": "b1379122-41b4-4e73-963a-b26cde180c7d",
        "outputId": "eacb90c8-9012-4dcb-c9ee-3cb8c278b282"
      },
      "outputs": [
        {
          "data": {
            "text/plain": [
              "array([0.01121751, 0.05872609, 0.11455713, 0.00625054, 0.07666214,\n",
              "       0.01406613, 0.01213064, 0.07413011, 0.01789164, 0.0135707 ,\n",
              "       0.0119316 , 0.01490946, 0.01447417, 0.011246  , 0.01280477,\n",
              "       0.04089006, 0.01716669, 0.08428531, 0.01770662, 0.01136184,\n",
              "       0.03068876, 0.04505238, 0.01122389, 0.01864058, 0.0117227 ,\n",
              "       0.01287344, 0.01238009, 0.01266064, 0.00218216, 0.00564838,\n",
              "       0.00343215, 0.00649616, 0.01197647, 0.01308032, 0.02030166,\n",
              "       0.00721976, 0.0877525 , 0.01397405, 0.03671478])"
            ]
          },
          "execution_count": 60,
          "metadata": {},
          "output_type": "execute_result"
        }
      ],
      "source": [
        "rf.feature_importances_"
      ]
    },
    {
      "cell_type": "code",
      "execution_count": null,
      "id": "9f1489c4-7079-4871-af47-52c607c9bb47",
      "metadata": {
        "id": "9f1489c4-7079-4871-af47-52c607c9bb47",
        "outputId": "fbed8fef-3fae-479b-ce9f-3ab14e9f2842"
      },
      "outputs": [
        {
          "name": "stdout",
          "output_type": "stream",
          "text": [
            "Requirement already satisfied: shap in c:\\users\\alwan\\anaconda3\\lib\\site-packages (0.41.0)\n",
            "Requirement already satisfied: slicer==0.0.7 in c:\\users\\alwan\\anaconda3\\lib\\site-packages (from shap) (0.0.7)\n",
            "Requirement already satisfied: cloudpickle in c:\\users\\alwan\\anaconda3\\lib\\site-packages (from shap) (2.0.0)\n",
            "Requirement already satisfied: scikit-learn in c:\\users\\alwan\\anaconda3\\lib\\site-packages (from shap) (1.0.2)\n",
            "Requirement already satisfied: numpy in c:\\users\\alwan\\anaconda3\\lib\\site-packages (from shap) (1.21.5)\n",
            "Requirement already satisfied: scipy in c:\\users\\alwan\\anaconda3\\lib\\site-packages (from shap) (1.7.3)\n",
            "Requirement already satisfied: pandas in c:\\users\\alwan\\anaconda3\\lib\\site-packages (from shap) (1.4.2)\n",
            "Requirement already satisfied: packaging>20.9 in c:\\users\\alwan\\anaconda3\\lib\\site-packages (from shap) (21.3)\n",
            "Requirement already satisfied: numba in c:\\users\\alwan\\anaconda3\\lib\\site-packages (from shap) (0.55.1)\n",
            "Requirement already satisfied: tqdm>4.25.0 in c:\\users\\alwan\\anaconda3\\lib\\site-packages (from shap) (4.64.0)\n",
            "Requirement already satisfied: pyparsing!=3.0.5,>=2.0.2 in c:\\users\\alwan\\anaconda3\\lib\\site-packages (from packaging>20.9->shap) (3.0.4)\n",
            "Requirement already satisfied: colorama in c:\\users\\alwan\\anaconda3\\lib\\site-packages (from tqdm>4.25.0->shap) (0.4.4)\n",
            "Requirement already satisfied: llvmlite<0.39,>=0.38.0rc1 in c:\\users\\alwan\\anaconda3\\lib\\site-packages (from numba->shap) (0.38.0)\n",
            "Requirement already satisfied: setuptools in c:\\users\\alwan\\anaconda3\\lib\\site-packages (from numba->shap) (61.2.0)\n",
            "Requirement already satisfied: python-dateutil>=2.8.1 in c:\\users\\alwan\\anaconda3\\lib\\site-packages (from pandas->shap) (2.8.2)\n",
            "Requirement already satisfied: pytz>=2020.1 in c:\\users\\alwan\\anaconda3\\lib\\site-packages (from pandas->shap) (2021.3)\n",
            "Requirement already satisfied: six>=1.5 in c:\\users\\alwan\\anaconda3\\lib\\site-packages (from python-dateutil>=2.8.1->pandas->shap) (1.16.0)\n",
            "Requirement already satisfied: threadpoolctl>=2.0.0 in c:\\users\\alwan\\anaconda3\\lib\\site-packages (from scikit-learn->shap) (2.2.0)\n",
            "Requirement already satisfied: joblib>=0.11 in c:\\users\\alwan\\anaconda3\\lib\\site-packages (from scikit-learn->shap) (1.1.0)\n"
          ]
        }
      ],
      "source": [
        "!pip3 install shap"
      ]
    },
    {
      "cell_type": "markdown",
      "id": "970ebb24-0ca0-4109-85d5-d0a954925886",
      "metadata": {
        "id": "970ebb24-0ca0-4109-85d5-d0a954925886"
      },
      "source": [
        "## Gradient Boosting Classifier"
      ]
    },
    {
      "cell_type": "code",
      "execution_count": null,
      "id": "9371f649-3161-40d8-a820-21c5a36bafd0",
      "metadata": {
        "id": "9371f649-3161-40d8-a820-21c5a36bafd0"
      },
      "outputs": [],
      "source": [
        "from sklearn.ensemble import GradientBoostingClassifier\n",
        "# 7th Algorithm: Gradient Boosting Classifier\n",
        "gb = GradientBoostingClassifier()\n",
        "gb.fit(x_train, y_train)\n",
        "pred_gb = gb.predict(x_test)"
      ]
    },
    {
      "cell_type": "code",
      "execution_count": null,
      "id": "0df6b075-d2b0-417d-809f-00f9990c6841",
      "metadata": {
        "id": "0df6b075-d2b0-417d-809f-00f9990c6841",
        "outputId": "d126ce32-c743-4c6b-b895-9ad3260f393b"
      },
      "outputs": [
        {
          "name": "stdout",
          "output_type": "stream",
          "text": [
            "87.22195929957407\n",
            "[[1435   89]\n",
            " [ 181  408]]\n",
            "              precision    recall  f1-score   support\n",
            "\n",
            "          No       0.89      0.94      0.91      1524\n",
            "         Yes       0.82      0.69      0.75       589\n",
            "\n",
            "    accuracy                           0.87      2113\n",
            "   macro avg       0.85      0.82      0.83      2113\n",
            "weighted avg       0.87      0.87      0.87      2113\n",
            "\n"
          ]
        }
      ],
      "source": [
        "print(metrics.accuracy_score(y_test, pred_gb)*100)\n",
        "print(confusion_matrix(y_test, pred_gb))\n",
        "print(classification_report(y_test, pred_gb))"
      ]
    },
    {
      "cell_type": "code",
      "execution_count": null,
      "id": "66682bc1-c713-4b2a-b988-7ea54292b479",
      "metadata": {
        "id": "66682bc1-c713-4b2a-b988-7ea54292b479",
        "outputId": "6eb36075-f88b-447c-933e-c2f7b8452ba0"
      },
      "outputs": [
        {
          "data": {
            "image/png": "[encoded data removed]",
            "text/plain": [
              "<Figure size 576x360 with 2 Axes>"
            ]
          },
          "metadata": {
            "needs_background": "light"
          },
          "output_type": "display_data"
        }
      ],
      "source": [
        "import seaborn as sns\n",
        "import matplotlib.pyplot as plt\n",
        "f, ax = plt.subplots(figsize=(8,5))\n",
        "sns.heatmap(confusion_matrix(y_test, pred_nb), annot=True, fmt=\".0f\", ax=ax)\n",
        "plt.title(\"Hasil Confusion Matrix\", fontsize=20)\n",
        "plt.xlabel(\"pred_nb\")\n",
        "plt.ylabel(\"y_test\")\n",
        "plt.show()"
      ]
    },
    {
      "cell_type": "code",
      "execution_count": null,
      "id": "21929605-b896-411d-acc2-fb04ad17bed8",
      "metadata": {
        "id": "21929605-b896-411d-acc2-fb04ad17bed8",
        "outputId": "6a4378a7-8cf6-4f3f-f90d-04024be3c649"
      },
      "outputs": [
        {
          "data": {
            "text/plain": [
              "<AxesSubplot:>"
            ]
          },
          "execution_count": 48,
          "metadata": {},
          "output_type": "execute_result"
        },
        {
          "data": {
            "image/png": "[encoded data removed]",
            "text/plain": [
              "<Figure size 432x288 with 1 Axes>"
            ]
          },
          "metadata": {
            "needs_background": "light"
          },
          "output_type": "display_data"
        }
      ],
      "source": [
        "feat_importances = pd.Series(gb.feature_importances_, index=f1.columns)\n",
        "feat_importances.nlargest(20).plot(kind='barh')"
      ]
    }
  ],
  "metadata": {
    "kernelspec": {
      "display_name": "Python 3 (ipykernel)",
      "language": "python",
      "name": "python3"
    },
    "language_info": {
      "codemirror_mode": {
        "name": "ipython",
        "version": 3
      },
      "file_extension": ".py",
      "mimetype": "text/x-python",
      "name": "python",
      "nbconvert_exporter": "python",
      "pygments_lexer": "ipython3",
      "version": "3.9.12"
    },
    "colab": {
      "provenance": []
    }
  },
  "nbformat": 4,
  "nbformat_minor": 5
}